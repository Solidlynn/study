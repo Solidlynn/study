{
 "cells": [
  {
   "cell_type": "markdown",
   "id": "b4966084",
   "metadata": {},
   "source": [
    "* 문제링크 : https://school.programmers.co.kr/learn/courses/30/lessons/181860\n",
    "* 문제 설명\n",
    "    - 아무 원소도 들어있지 않은 빈 배열 X가 있습니다. 길이가 같은 정수 배열 arr과 boolean 배열 flag가 매개변수로 주어질 때, flag를 차례대로 순회하며 flag[i]가 true라면 X의 뒤에 arr[i]를 arr[i] × 2 번 추가하고, flag[i]가 false라면 X에서 마지막 arr[i]개의 원소를 제거한 뒤 X를 return 하는 solution 함수를 작성해 주세요.\n",
    "    - 제한사항\n",
    "        - 1 ≤ arr의 길이 = flag의 길이 ≤ 100\n",
    "        - arr의 모든 원소는 1 이상 9 이하의 정수입니다.\n",
    "        - 현재 X의 길이보다 더 많은 원소를 빼는 입력은 주어지지 않습니다.\n",
    "    - 입출력 예\n",
    "        - arr\tflag\tresult\n",
    "        - [3, 2, 4, 1, 3]\t[true, false, true, false, false]\t[3, 3, 3, 3, 4, 4, 4, 4]"
   ]
  },
  {
   "cell_type": "code",
   "execution_count": 22,
   "id": "c899dc54",
   "metadata": {},
   "outputs": [
    {
     "name": "stdout",
     "output_type": "stream",
     "text": [
      "[3, 3, 3, 3, 3, 3, 2, 2, 2, 2, 4, 4, 4, 4, 4, 4, 4, 4, 1, 1, 3, 3, 3, 3, 3, 3]\n"
     ]
    }
   ],
   "source": [
    "def solution(arr, flag):\n",
    "    X = []\n",
    "    for a, f in zip(arr, flag):\n",
    "        #zip(arr, flag)는 arr와 flag의 같은 인덱스 요소를 한 쌍으로 묶어\n",
    "        if f:\n",
    "            # a를 a*2번 추가\n",
    "            X.extend([a] * (a * 2))\n",
    "            #X.extend(...) → 리스트 뒤에 여러 값을 한 번에 추가\n",
    "        else:\n",
    "            # 뒤에서 a개 제거\n",
    "            del X[-a:]\n",
    "    return X\n",
    "\n",
    "# 실행 예시\n",
    "print(solution([3, 2, 4, 1, 3], [True, True, True, True, True]))\n",
    "# 출력: [3, 3, 3, 3, 4, 4, 4, 4]\n"
   ]
  },
  {
   "cell_type": "code",
   "execution_count": null,
   "id": "13508373",
   "metadata": {},
   "outputs": [],
   "source": []
  }
 ],
 "metadata": {
  "kernelspec": {
   "display_name": "base",
   "language": "python",
   "name": "python3"
  },
  "language_info": {
   "codemirror_mode": {
    "name": "ipython",
    "version": 3
   },
   "file_extension": ".py",
   "mimetype": "text/x-python",
   "name": "python",
   "nbconvert_exporter": "python",
   "pygments_lexer": "ipython3",
   "version": "3.11.8"
  }
 },
 "nbformat": 4,
 "nbformat_minor": 5
}
