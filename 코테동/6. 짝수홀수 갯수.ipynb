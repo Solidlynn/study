{
 "cells": [
  {
   "cell_type": "markdown",
   "id": "30987e06",
   "metadata": {},
   "source": [
    "* 정수가 담긴 리스트 num_list가 주어질 때, num_list의 원소 중 짝수와 홀수의 개수를 담은 배열을 return 하도록 solution 함수를 완성해보세요.\n",
    "* 링크 : https://school.programmers.co.kr/learn/courses/30/lessons/120824"
   ]
  },
  {
   "cell_type": "code",
   "execution_count": 3,
   "id": "e8128e5f",
   "metadata": {},
   "outputs": [],
   "source": [
    "def solution(num_list):\n",
    "    even_count = 0\n",
    "    odd_count = 0\n",
    "    for num in num_list:\n",
    "        if num % 2 == 0:\n",
    "            even_count += 1\n",
    "        else:\n",
    "            odd_count += 1\n",
    "    return [even_count, odd_count]"
   ]
  },
  {
   "cell_type": "code",
   "execution_count": 4,
   "id": "86d34789",
   "metadata": {},
   "outputs": [
    {
     "name": "stdout",
     "output_type": "stream",
     "text": [
      "[2, 3]\n"
     ]
    }
   ],
   "source": [
    "num_list = [1, 2, 3, 4, 5]\n",
    "\n",
    "print(solution(num_list))"
   ]
  },
  {
   "cell_type": "code",
   "execution_count": 5,
   "id": "988f2cc0",
   "metadata": {},
   "outputs": [
    {
     "name": "stdout",
     "output_type": "stream",
     "text": [
      "[0, 4]\n"
     ]
    }
   ],
   "source": [
    "num_list = [1, 3, 5, 7]\n",
    "\n",
    "print(solution(num_list))"
   ]
  },
  {
   "cell_type": "code",
   "execution_count": null,
   "id": "a6c203c3",
   "metadata": {},
   "outputs": [],
   "source": []
  }
 ],
 "metadata": {
  "kernelspec": {
   "display_name": "base",
   "language": "python",
   "name": "python3"
  },
  "language_info": {
   "codemirror_mode": {
    "name": "ipython",
    "version": 3
   },
   "file_extension": ".py",
   "mimetype": "text/x-python",
   "name": "python",
   "nbconvert_exporter": "python",
   "pygments_lexer": "ipython3",
   "version": "3.11.8"
  }
 },
 "nbformat": 4,
 "nbformat_minor": 5
}
