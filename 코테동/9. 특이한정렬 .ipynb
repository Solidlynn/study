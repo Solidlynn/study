{
 "cells": [
  {
   "cell_type": "markdown",
   "id": "9eb3eafc",
   "metadata": {},
   "source": [
    "##### 문제 설명\n",
    "* 정수 n을 기준으로 n과 가까운 수부터 정렬하려고 합니다. 이때 n으로부터의 거리가 같다면 더 큰 수를 앞에 오도록 배치합니다. \n",
    "* 정수가 담긴 배열 numlist와 정수 n이 주어질 때 numlist의 원소를 n으로부터 가까운 순서대로 정렬한 배열을 return하도록 solution 함수를 완성해주세요.\n",
    "\n",
    "#### 링크 \n",
    "* https://school.programmers.co.kr/learn/courses/30/lessons/120880"
   ]
  },
  {
   "cell_type": "markdown",
   "id": "3d2eb759",
   "metadata": {},
   "source": [
    "입출력 예\n",
    "numlist\tn\tresult\n",
    "[1, 2, 3, 4, 5, 6]\t4\t-> [4, 5, 3, 6, 2, 1]\n",
    "[10000,20,36,47,40,6,10,7000]\t30\t-> [36, 40, 20, 47, 10, 6, 7000, 10000]"
   ]
  },
  {
   "cell_type": "code",
   "execution_count": 10,
   "id": "d2cadf29",
   "metadata": {},
   "outputs": [],
   "source": [
    "def solution(numlist, n):\n",
    "    answer = []\n",
    "    answer = sorted(numlist, key=lambda x: (abs(x - n), -x))\n",
    "    return answer"
   ]
  },
  {
   "cell_type": "code",
   "execution_count": 11,
   "id": "db4d2aa9",
   "metadata": {},
   "outputs": [
    {
     "name": "stdout",
     "output_type": "stream",
     "text": [
      "[4, 5, 3, 6, 2, 1]\n"
     ]
    }
   ],
   "source": [
    "numlist = [1, 2, 3, 4, 5, 6]\n",
    "n = 4\n",
    "print(solution(numlist, n))"
   ]
  },
  {
   "cell_type": "code",
   "execution_count": 12,
   "id": "70a86ba6",
   "metadata": {},
   "outputs": [
    {
     "name": "stdout",
     "output_type": "stream",
     "text": [
      "[36, 40, 20, 47, 10, 6, 7000, 10000]\n"
     ]
    }
   ],
   "source": [
    "numlist = [10000,20,36,47,40,6,10,7000]\n",
    "n = 30\n",
    "print(solution(numlist, n))"
   ]
  },
  {
   "cell_type": "markdown",
   "id": "167f2d82",
   "metadata": {},
   "source": [
    "튜플 (abs(x-n), -x) 자체가 두 가지 기준을 순서대로 담은 것\n",
    "\t1.\t첫 번째 값: abs(x-n) → 거리\n",
    "\t2.\t두 번째 값: -x → 거리가 같을 때 비교\n",
    "\t•\tPython의 튜플 비교 규칙:\n",
    "\t•\t(a1, b1) < (a2, b2)\n",
    "→ 먼저 a1 < a2 비교\n",
    "→ 만약 a1 == a2이면 b1 < b2로 비교\n"
   ]
  }
 ],
 "metadata": {
  "kernelspec": {
   "display_name": "base",
   "language": "python",
   "name": "python3"
  },
  "language_info": {
   "codemirror_mode": {
    "name": "ipython",
    "version": 3
   },
   "file_extension": ".py",
   "mimetype": "text/x-python",
   "name": "python",
   "nbconvert_exporter": "python",
   "pygments_lexer": "ipython3",
   "version": "3.11.8"
  }
 },
 "nbformat": 4,
 "nbformat_minor": 5
}
