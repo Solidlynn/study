{
 "cells": [
  {
   "cell_type": "markdown",
   "id": "024f3a0f",
   "metadata": {},
   "source": [
    "#### 문제 설명\n",
    "* 문자열 my_string이 매개변수로 주어질 때, my_string 안에 있는 숫자만 골라 오름차순 정렬한 리스트를 return 하도록 solution 함수를 작성해보세요.\n",
    "\n",
    "#### 제한사항\n",
    "* 1 ≤ my_string의 길이 ≤ 100\n",
    "* my_string에는 숫자가 한 개 이상 포함되어 있습니다.\n",
    "* my_string은 영어 소문자 또는 0부터 9까지의 숫자로 이루어져 있습니다. - - -\n",
    "\n",
    "##### 링크\n",
    "* https://school.programmers.co.kr/learn/courses/30/lessons/120850"
   ]
  },
  {
   "cell_type": "code",
   "execution_count": 5,
   "id": "94e585da",
   "metadata": {},
   "outputs": [
    {
     "name": "stdout",
     "output_type": "stream",
     "text": [
      "string값: hi12392 -> result: [1, 2, 2, 3, 9]\n",
      "string값: p2o4i8gj2 -> result: [2, 2, 4, 8]\n",
      "string값: abcde0 -> result: [0]\n"
     ]
    }
   ],
   "source": [
    "# 테스트 케이스와 기대 결과\n",
    "test_cases = [\n",
    "\t\"hi12392\",\n",
    "\t\"p2o4i8gj2\",\n",
    "\t\"abcde0\"\n",
    "]\n",
    "\n",
    "# solution 함수 정의\n",
    "def solution(my_string):\n",
    "\treturn sorted([int(ch) for ch in my_string if ch.isdigit()])\n",
    "\n",
    "# 테스트 실행\n",
    "for my_string in test_cases:\n",
    "\tresult = solution(my_string)\n",
    "\tprint(f\"string값: {my_string} -> result: {result}\")\n"
   ]
  },
  {
   "cell_type": "code",
   "execution_count": 7,
   "id": "41192929",
   "metadata": {},
   "outputs": [],
   "source": [
    "import re\n",
    "\n",
    "def solution(my_string):\n",
    "    return sorted(map(int,(re.sub('[^0-9]', '', my_string))))"
   ]
  },
  {
   "cell_type": "markdown",
   "id": "91d69179",
   "metadata": {},
   "source": [
    "1.\tre.sub('[^0-9]', '', my_string)\n",
    "* 정규식으로 숫자(0~9)가 아닌 문자를 전부 ''(빈 문자열)로 치환 → 즉, 숫자만 남긴 문자열을 만듭니다.\n",
    "* 예: \"a1b23c9\" → \"1239\"\n",
    "2.\tlist( ... )\n",
    "* 남은 숫자 문자열을 한 글자씩 잘라 리스트로 만듭니다.\n",
    "* \"1239\" → ['1', '2', '3', '9']\n",
    "* 사실 이 list()는 없어도 됩니다. 문자열 자체가 이터러블이라 map(int, 문자열)이 바로 동작해요.\n",
    "3.\tmap(int, ...)\n",
    "* 문자 '1', '2' … 를 정수 1, 2 … 로 변환합니다.\n",
    "* ['1','2','3','9'] → [1, 2, 3, 9] (이터레이터 형태)\n",
    "4.\tsorted( ...)\n",
    "* 숫자 리스트를 오름차순 정렬해서 리스트로 반환합니다.\n",
    "* [1, 2, 3, 9] → [1, 2, 3, 9] (이미 오름차순이면 그대로)"
   ]
  },
  {
   "cell_type": "code",
   "execution_count": 8,
   "id": "36fd676b",
   "metadata": {},
   "outputs": [
    {
     "data": {
      "text/plain": [
       "[1, 2, 2, 3, 9]"
      ]
     },
     "execution_count": 8,
     "metadata": {},
     "output_type": "execute_result"
    }
   ],
   "source": [
    "solution(\"hi12392\")"
   ]
  },
  {
   "cell_type": "code",
   "execution_count": null,
   "id": "e2f8d901",
   "metadata": {},
   "outputs": [],
   "source": []
  }
 ],
 "metadata": {
  "kernelspec": {
   "display_name": "base",
   "language": "python",
   "name": "python3"
  },
  "language_info": {
   "codemirror_mode": {
    "name": "ipython",
    "version": 3
   },
   "file_extension": ".py",
   "mimetype": "text/x-python",
   "name": "python",
   "nbconvert_exporter": "python",
   "pygments_lexer": "ipython3",
   "version": "3.11.8"
  }
 },
 "nbformat": 4,
 "nbformat_minor": 5
}
