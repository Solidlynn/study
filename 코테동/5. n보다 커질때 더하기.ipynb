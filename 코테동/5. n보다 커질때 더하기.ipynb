{
 "cells": [
  {
   "cell_type": "markdown",
   "id": "3c591f41",
   "metadata": {},
   "source": [
    "* 링크 : https://school.programmers.co.kr/learn/courses/30/lessons/181884\n",
    "* 문제 : 정수 배열 numbers와 정수 n이 매개변수로 주어집니다. \n",
    "numbers의 원소를 앞에서부터 하나씩 더하다가 그 합이 n보다 커지는 순간 이때까지 더했던 원소들의 합을 return 하는 solution 함수를 작성해 주세요."
   ]
  },
  {
   "cell_type": "code",
   "execution_count": 1,
   "id": "72f263fb",
   "metadata": {},
   "outputs": [],
   "source": [
    "def solution(numbers, n):\n",
    "    total = 0\n",
    "    for num in numbers:\n",
    "        total += num\n",
    "        if total > n:\n",
    "            return total\n",
    "    return total"
   ]
  },
  {
   "cell_type": "code",
   "execution_count": 2,
   "id": "daeb4b38",
   "metadata": {},
   "outputs": [
    {
     "name": "stdout",
     "output_type": "stream",
     "text": [
      "139\n"
     ]
    }
   ],
   "source": [
    "numbers = [34, 5, 71, 29, 100, 34]\n",
    "n=123\n",
    "print(solution(numbers, n))"
   ]
  },
  {
   "cell_type": "code",
   "execution_count": null,
   "id": "4c688737",
   "metadata": {},
   "outputs": [],
   "source": []
  },
  {
   "cell_type": "code",
   "execution_count": null,
   "id": "fa1beb0e",
   "metadata": {},
   "outputs": [],
   "source": []
  },
  {
   "cell_type": "code",
   "execution_count": null,
   "id": "6b740456",
   "metadata": {},
   "outputs": [],
   "source": []
  },
  {
   "cell_type": "code",
   "execution_count": null,
   "id": "51720d9e",
   "metadata": {},
   "outputs": [],
   "source": []
  }
 ],
 "metadata": {
  "kernelspec": {
   "display_name": "base",
   "language": "python",
   "name": "python3"
  },
  "language_info": {
   "codemirror_mode": {
    "name": "ipython",
    "version": 3
   },
   "file_extension": ".py",
   "mimetype": "text/x-python",
   "name": "python",
   "nbconvert_exporter": "python",
   "pygments_lexer": "ipython3",
   "version": "3.11.8"
  }
 },
 "nbformat": 4,
 "nbformat_minor": 5
}
