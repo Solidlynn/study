{
 "cells": [
  {
   "cell_type": "markdown",
   "id": "55cfff99",
   "metadata": {},
   "source": [
    "문제 설명\n",
    "array의 각 element 중 divisor로 나누어 떨어지는 값을 오름차순으로 정렬한 배열을 반환하는 함수, solution을 작성해주세요.\n",
    "divisor로 나누어 떨어지는 element가 하나도 없다면 배열에 -1을 담아 반환하세요.\n",
    "\n",
    "제한사항\n",
    "arr은 자연수를 담은 배열입니다.\n",
    "정수 i, j에 대해 i ≠ j 이면 arr[i] ≠ arr[j] 입니다.\n",
    "divisor는 자연수입니다.\n",
    "array는 길이 1 이상인 배열입니다.\n",
    "\n",
    "입출력 예\n",
    "arr\tdivisor\treturn\n",
    "[5, 9, 7, 10]\t5\t[5, 10]\n",
    "[2, 36, 1, 3]\t1\t[1, 2, 3, 36]\n",
    "[3,2,6]\t10\t[-1]"
   ]
  },
  {
   "cell_type": "code",
   "execution_count": 1,
   "id": "3696ef11",
   "metadata": {},
   "outputs": [],
   "source": [
    "def solution (arr,divisor):\n",
    "    answer = [i for i in arr if i % divisor == 0]\n",
    "    if not answer:\n",
    "        return [-1]\n",
    "    return sorted(answer)"
   ]
  },
  {
   "cell_type": "code",
   "execution_count": 2,
   "id": "d001ea6d",
   "metadata": {},
   "outputs": [
    {
     "data": {
      "text/plain": [
       "[5, 10]"
      ]
     },
     "execution_count": 2,
     "metadata": {},
     "output_type": "execute_result"
    }
   ],
   "source": [
    "arr = [5, 9, 7, 10]\n",
    "divisor = 5\n",
    "\n",
    "solution(arr, divisor)"
   ]
  },
  {
   "cell_type": "code",
   "execution_count": 3,
   "id": "0cc40c59",
   "metadata": {},
   "outputs": [
    {
     "data": {
      "text/plain": [
       "[1, 2, 3, 36]"
      ]
     },
     "execution_count": 3,
     "metadata": {},
     "output_type": "execute_result"
    }
   ],
   "source": [
    "arr = [2, 36, 1, 3]\n",
    "divisor = 1\n",
    "\n",
    "solution(arr, divisor)"
   ]
  },
  {
   "cell_type": "code",
   "execution_count": null,
   "id": "9b20c513",
   "metadata": {},
   "outputs": [],
   "source": [
    "def solution(arr, divisor):\n",
    "    answer = []\n",
    "    return answer"
   ]
  }
 ],
 "metadata": {
  "kernelspec": {
   "display_name": "base",
   "language": "python",
   "name": "python3"
  },
  "language_info": {
   "codemirror_mode": {
    "name": "ipython",
    "version": 3
   },
   "file_extension": ".py",
   "mimetype": "text/x-python",
   "name": "python",
   "nbconvert_exporter": "python",
   "pygments_lexer": "ipython3",
   "version": "3.11.8"
  }
 },
 "nbformat": 4,
 "nbformat_minor": 5
}
