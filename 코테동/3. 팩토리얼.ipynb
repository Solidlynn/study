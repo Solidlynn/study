{
 "cells": [
  {
   "cell_type": "markdown",
   "id": "662f3a11",
   "metadata": {},
   "source": [
    "### 팩토리얼\n",
    "* url : https://school.programmers.co.kr/learn/courses/30/lessons/120848"
   ]
  },
  {
   "cell_type": "code",
   "execution_count": null,
   "id": "799bf0d3",
   "metadata": {},
   "outputs": [],
   "source": [
    "from math import factorial\n",
    "\n",
    "factorial\n",
    "def solution(n):\n",
    "    return factorial(n)    "
   ]
  },
  {
   "cell_type": "code",
   "execution_count": 4,
   "id": "d6581ee9",
   "metadata": {},
   "outputs": [
    {
     "name": "stdout",
     "output_type": "stream",
     "text": [
      "10! = 3628800\n"
     ]
    }
   ],
   "source": [
    "n = int(input(\"팩토리얼을 구할 숫자를 입력하세요: \"))\n",
    "print(f\"{n}! = {solution(n)}\")        "
   ]
  },
  {
   "cell_type": "code",
   "execution_count": null,
   "id": "c5d2ca65",
   "metadata": {},
   "outputs": [],
   "source": [
    "def factorial_manual(n):\n",
    "    if n == 0:\n",
    "        return 1\n",
    "    result = 1\n",
    "    for i in range(1, n + 1):\n",
    "        result *= i\n",
    "    return result    \n",
    "\n"
   ]
  },
  {
   "cell_type": "code",
   "execution_count": 6,
   "id": "0e99fe17",
   "metadata": {},
   "outputs": [
    {
     "name": "stdout",
     "output_type": "stream",
     "text": [
      "10! = 3628800\n"
     ]
    }
   ],
   "source": [
    "n2 = int(input(\"팩토리얼을 구할 숫자를 입력하세요: \"))\n",
    "print(f\"{n2}! = {factorial_manual(n2)}\")"
   ]
  },
  {
   "cell_type": "code",
   "execution_count": 13,
   "id": "e5f671c1",
   "metadata": {},
   "outputs": [],
   "source": [
    "def reverse_factorial(fac):\n",
    "        n = 1\n",
    "        result = 1\n",
    "        while result < fac:\n",
    "            n += 1\n",
    "            result *= n\n",
    "            print(f\"n: {n}, result: {result}\")\n",
    "        if result == fac:\n",
    "            return n\n",
    "        else:\n",
    "            return None  # 정확한 n!이 아닐 때\n"
   ]
  },
  {
   "cell_type": "code",
   "execution_count": 14,
   "id": "68756012",
   "metadata": {},
   "outputs": [
    {
     "name": "stdout",
     "output_type": "stream",
     "text": [
      "n: 2, result: 2\n",
      "n: 3, result: 6\n",
      "n: 4, result: 24\n",
      "n: 5, result: 120\n",
      "n: 6, result: 720\n",
      "n: 7, result: 5040\n",
      "n: 8, result: 40320\n",
      "n: 9, result: 362880\n",
      "n: 10, result: 3628800\n",
      "3628800 = 10!\n"
     ]
    }
   ],
   "source": [
    "fac_input = int(input(\"팩토리얼 값을 입력하세요: \"))\n",
    "n = reverse_factorial(fac_input)\n",
    "if n:\n",
    "    print(f\"{fac_input} = {n}!\")\n",
    "else:\n",
    "    print(\"해당 값은 어떤 자연수의 팩토리얼이 아닙니다.\")"
   ]
  },
  {
   "cell_type": "code",
   "execution_count": null,
   "id": "d91bb461",
   "metadata": {},
   "outputs": [],
   "source": []
  }
 ],
 "metadata": {
  "kernelspec": {
   "display_name": "base",
   "language": "python",
   "name": "python3"
  },
  "language_info": {
   "codemirror_mode": {
    "name": "ipython",
    "version": 3
   },
   "file_extension": ".py",
   "mimetype": "text/x-python",
   "name": "python",
   "nbconvert_exporter": "python",
   "pygments_lexer": "ipython3",
   "version": "3.11.8"
  }
 },
 "nbformat": 4,
 "nbformat_minor": 5
}
