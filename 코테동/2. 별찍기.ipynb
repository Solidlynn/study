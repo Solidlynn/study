{
 "cells": [
  {
   "cell_type": "markdown",
   "id": "850274ed",
   "metadata": {},
   "source": [
    "### 별찍기\n",
    "url : https://www.acmicpc.net/problem/2438"
   ]
  },
  {
   "cell_type": "code",
   "execution_count": 2,
   "id": "aa873b7c",
   "metadata": {},
   "outputs": [
    {
     "name": "stdout",
     "output_type": "stream",
     "text": [
      "*\n",
      "**\n",
      "***\n",
      "****\n",
      "*****\n"
     ]
    }
   ],
   "source": [
    "for i in range(5):\n",
    "    print('*' * (i + 1))\n"
   ]
  },
  {
   "cell_type": "code",
   "execution_count": null,
   "id": "9bc8b975",
   "metadata": {},
   "outputs": [
    {
     "name": "stdout",
     "output_type": "stream",
     "text": [
      "*****\n",
      "****\n",
      "***\n",
      "**\n",
      "*\n",
      "\n"
     ]
    }
   ],
   "source": [
    "\n",
    "for i in reversed(range(6)):\n",
    "    print('*' * i)\n"
   ]
  },
  {
   "cell_type": "markdown",
   "id": "34f61953",
   "metadata": {},
   "source": [
    "* `reversed()`는 **파이썬 내장 함수**로, **순서가 있는(iterable) 자료형을 거꾸로 뒤집어주는 함수**입니다. 하지만 주의할 점도 몇 가지 있습니다. \n",
    "* `reversed()`는 인자로 전달된 시퀀스(리스트, 튜플, 문자열 등)를 **역순으로 순회할 수 있는 이터레이터(iterator)**를 반환합니다.\n",
    "* `reversed()`는 다음과 같은 **순서가 있는 자료형(sequence)**에서만 사용할 수 있습니다:\n",
    "    - 문자열 (`str`), 리스트 (`list`), 튜플 (`tuple`), range 객체 (`range`)"
   ]
  },
  {
   "cell_type": "code",
   "execution_count": 6,
   "id": "06aa9147",
   "metadata": {},
   "outputs": [],
   "source": [
    "# 별의 줄 수 입력받기\n",
    "n = int(input(\"별의 줄 수를 입력하세요: \"))"
   ]
  },
  {
   "cell_type": "code",
   "execution_count": 3,
   "id": "267b4111",
   "metadata": {},
   "outputs": [
    {
     "name": "stdout",
     "output_type": "stream",
     "text": [
      "*\n",
      "**\n",
      "***\n",
      "****\n",
      "*****\n"
     ]
    }
   ],
   "source": [
    "# 왼쪽 정렬 별찍기\n",
    "for i in range(1, n+1):\n",
    "    print('*' * i)"
   ]
  },
  {
   "cell_type": "code",
   "execution_count": 4,
   "id": "366c9eb0",
   "metadata": {},
   "outputs": [
    {
     "name": "stdout",
     "output_type": "stream",
     "text": [
      "    *\n",
      "   **\n",
      "  ***\n",
      " ****\n",
      "*****\n"
     ]
    }
   ],
   "source": [
    "# 오른쪽 정렬 별찍기\n",
    "for i in range(1, n+1):\n",
    "    print(('*' * i).rjust(n))"
   ]
  },
  {
   "cell_type": "code",
   "execution_count": 7,
   "id": "bb1791bd",
   "metadata": {},
   "outputs": [
    {
     "name": "stdout",
     "output_type": "stream",
     "text": [
      "   *\n",
      "  ***\n",
      " *****\n",
      "*******\n"
     ]
    }
   ],
   "source": [
    "# 피라미드 별찍기\n",
    "for i in range(1, n+1):\n",
    "    print((' ' * (n - i) + '*' * (2 * i - 1)))"
   ]
  },
  {
   "cell_type": "code",
   "execution_count": null,
   "id": "540c4668",
   "metadata": {},
   "outputs": [],
   "source": []
  }
 ],
 "metadata": {
  "kernelspec": {
   "display_name": "base",
   "language": "python",
   "name": "python3"
  },
  "language_info": {
   "codemirror_mode": {
    "name": "ipython",
    "version": 3
   },
   "file_extension": ".py",
   "mimetype": "text/x-python",
   "name": "python",
   "nbconvert_exporter": "python",
   "pygments_lexer": "ipython3",
   "version": "3.11.8"
  }
 },
 "nbformat": 4,
 "nbformat_minor": 5
}
