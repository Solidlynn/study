{
 "cells": [
  {
   "cell_type": "markdown",
   "id": "f29aa201",
   "metadata": {},
   "source": [
    "#### 최대공약수와 최소공배수\n",
    "* url : https://www.acmicpc.net/problem/2609"
   ]
  },
  {
   "cell_type": "code",
   "execution_count": 2,
   "id": "aa045f04",
   "metadata": {},
   "outputs": [
    {
     "name": "stdout",
     "output_type": "stream",
     "text": [
      "6\n",
      "72\n"
     ]
    }
   ],
   "source": [
    "import math\n",
    "\n",
    "# 두 개의 자연수 입력받기\n",
    "a, b = map(int, input().split())\n",
    "\n",
    "# 최대공약수(GCD) 계산\n",
    "gcd = math.gcd(a, b)\n",
    "\n",
    "# 최소공배수(LCM) 계산\n",
    "lcm = a * b // gcd\n",
    "\n",
    "# 결과 출력\n",
    "print(gcd)\n",
    "print(lcm)\n"
   ]
  },
  {
   "cell_type": "markdown",
   "id": "11e10ed4",
   "metadata": {},
   "source": [
    "- `math`는 파이썬에 기본 내장된 수학 모듈\n",
    "- 고급 수학 연산(삼각함수, 로그, 제곱근, 소수 반올림 등)에 필요한 함수를 제공\n",
    "    \n",
    "    \n",
    "    | 함수 이름 | 설명 |\n",
    "    | --- | --- |\n",
    "    | `math.gcd(a, b)` | a와 b의 **최대공약수** 반환 |\n",
    "    | `math.lcm(a, b)` | a와 b의 **최소공배수** 반환 *(3.9 이상)* |\n",
    "    | `math.sqrt(x)` | x의 **제곱근** 반환 |\n",
    "    | `math.floor(x)` | x보다 작거나 같은 **정수** 반환 |\n",
    "    | `math.ceil(x)` | x보다 크거나 같은 **정수** 반환 |\n",
    "    | `math.pow(x, y)` | x의 y제곱 (**실수형**) |\n",
    "    | `math.log(x, base)` | x의 **로그값** 반환 (기본은 자연로그) |\n",
    "    | `math.pi` | **원주율 π** 상수 |\n",
    "    | `math.e` | **자연상수 e** 상수 |"
   ]
  },
  {
   "cell_type": "code",
   "execution_count": 3,
   "id": "6a9846d4",
   "metadata": {},
   "outputs": [
    {
     "name": "stdout",
     "output_type": "stream",
     "text": [
      "6\n",
      "72\n"
     ]
    }
   ],
   "source": [
    "def gcd(a,b):\n",
    "    while b != 0:\n",
    "        a,b = b, a%b\n",
    "    return a\n",
    "\n",
    "def lcm(a,b):\n",
    "    return a*b// gcd(a,b)\n",
    "\n",
    "a,b = map(int,input().split())\n",
    "\n",
    "print(gcd(a,b))\n",
    "print(lcm(a,b))"
   ]
  },
  {
   "cell_type": "code",
   "execution_count": null,
   "id": "c1f7fb17",
   "metadata": {},
   "outputs": [],
   "source": []
  }
 ],
 "metadata": {
  "kernelspec": {
   "display_name": "base",
   "language": "python",
   "name": "python3"
  },
  "language_info": {
   "codemirror_mode": {
    "name": "ipython",
    "version": 3
   },
   "file_extension": ".py",
   "mimetype": "text/x-python",
   "name": "python",
   "nbconvert_exporter": "python",
   "pygments_lexer": "ipython3",
   "version": "3.11.8"
  }
 },
 "nbformat": 4,
 "nbformat_minor": 5
}
