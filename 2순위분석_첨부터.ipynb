{
 "cells": [
  {
   "cell_type": "markdown",
   "metadata": {},
   "source": [
    "#### 1. 텍스트파일을 csv파일로 변환"
   ]
  },
  {
   "cell_type": "markdown",
   "metadata": {},
   "source": [
    "import pandas as pd\n",
    "import re"
   ]
  },
  {
   "cell_type": "code",
   "execution_count": 4,
   "metadata": {},
   "outputs": [],
   "source": [
    "# read textfile\n",
    "with open('2순위추천_김용인_1차.txt','r',encoding='utf-8') as file:\n",
    "    lines = file.readlines()"
   ]
  },
  {
   "cell_type": "code",
   "execution_count": 5,
   "metadata": {},
   "outputs": [],
   "source": [
    "# list\n",
    "data = []\n",
    "current_talker = None "
   ]
  },
  {
   "cell_type": "code",
   "execution_count": 6,
   "metadata": {},
   "outputs": [],
   "source": [
    "# save txt as dataframe\n",
    "for line in lines:\n",
    "    line = line.strip()\n",
    "    #strip() 함수 : 문자열의 시작과 끝에서 공백을 제거한 후 반환한다. 만약, 괄호 안에 특정 값을 넣을 경우에는 해당하는 문자열을 제거할 수 있다.\n",
    "    if line.startswith('코치') or line.startswith('코치이'): #코치, 코치이 시작하는 줄 찾기\n",
    "        match = re.match(r'(\\w+)\\s(\\d{2}:\\d{2})', line)\n",
    "        if match:\n",
    "            talker,time = match.groups() #화자, 시간추출\n",
    "            content= line[match.end():].strip() #내용추출\n",
    "            current_talker = (talker,time)#화자와 시간저장\n",
    "            data.append([talker,time,content])\n",
    "        else:\n",
    "            if current_talker:#계속 이어나가는경우\n",
    "                talker,time = current_talker\n",
    "                content= line.strip()\n",
    "                if content:#빈줄이 아닌경우에만 추가\n",
    "                    data.append([talker,time,content])"
   ]
  },
  {
   "cell_type": "code",
   "execution_count": 8,
   "metadata": {},
   "outputs": [],
   "source": [
    "# dataframe\n",
    "# list to df\n",
    "df= pd.DataFrame(data,columns=['talker','time','content'])"
   ]
  },
  {
   "cell_type": "code",
   "execution_count": 10,
   "metadata": {},
   "outputs": [
    {
     "name": "stdout",
     "output_type": "stream",
     "text": [
      "csv file saved\n"
     ]
    }
   ],
   "source": [
    "# save as csv\n",
    "df.to_csv('2순위추천_김용인_1차.csv',index=False,encoding='utf-8')\n",
    "print('csv file saved')"
   ]
  },
  {
   "cell_type": "markdown",
   "metadata": {},
   "source": [
    "이렇게 하니까, content가 들어가지 않는 문제가 생김. \n",
    "코치로 시작하는 줄에는 content가 없고, 그 밑에 있는데 설정을 잘못해서 그런것 같음"
   ]
  },
  {
   "cell_type": "code",
   "execution_count": 11,
   "metadata": {},
   "outputs": [],
   "source": [
    "# 리스트 초기화\n",
    "data = []\n",
    "current_talker = None\n",
    "current_time= None\n",
    "current_content= []"
   ]
  },
  {
   "cell_type": "code",
   "execution_count": 13,
   "metadata": {},
   "outputs": [],
   "source": [
    "for line in lines:\n",
    "    line = line.strip()\n",
    "    if line.startswith('코치') or line.startswith('코치이'):\n",
    "        if current_talker:\n",
    "            data.append([current_talker, current_time,''.join(current_content)])\n",
    "        match= re.match(r'(\\w+)\\s(\\d{2}:\\d{2})', line)\n",
    "        if match:\n",
    "            talker,time = match.groups()\n",
    "            current_talker= talker\n",
    "            current_time = time\n",
    "            current_content = [line[match.end():].strip()]\n",
    "    else:\n",
    "        if current_talker:\n",
    "            current_content.append(line)\n",
    "if current_talker:\n",
    "    data.append([current_talker,current_time,''.join(current_content)])"
   ]
  },
  {
   "cell_type": "code",
   "execution_count": 14,
   "metadata": {},
   "outputs": [
    {
     "name": "stdout",
     "output_type": "stream",
     "text": [
      "[['코치', '00:00', '시작했습니다. 그래요. 승현이 이제 입사한 지 2월, 3월, 4월 5월 이제 한 100일 넘었네.네 100일 좀 넘었죠.'], ['코치이', '00:13', '인턴 포함하면 그래도 한 8개월 8개월까지는'], ['코치', '00:22', '인턴 때 한 6주 했었지'], ['코치이', '00:26', '네 6조 인터넷에서'], ['코치', '00:28', '인턴 때 생활한 거랑 지금 한 100일 정도 생활해 보니 혹시 차이가 뭐야 어떤 게 뭐 이렇게 좀 특이할 만한 부분'], ['코치이', '00:38', '인턴 때는 이제 주로 좀 배움의 과정이었죠. 업무를 어떻게 하는지 그리고 어떤 업무를 하는지랑 이제 저희 직무가 어떤 일을 하는지 저희가 직접 뭔가 조사를 해보고 그거에 대해서 팀원분들한테 발표를 하는 그런 과정이 있었다면 이제는 좀 실무에 투입이 돼가지고 직접 사업장 분들이랑 커뮤니케이션도 하고 그런 게 일단 책임부터 좀 다른 것 같아요.제가 실수함으로 인해서 저희 팀의 업무에 지장이 갈 수도 있고 근데 이제 인턴 때는 아무래도 그런 책임에서는 조금 자유로웠는데 그런 부분이 좀 다른 것 같아요.'], ['코치', '01:14', '그렇지 어떻게 보면 인턴 때문에 좀 배웠던 게 많았다고 한다면 지금 현재 일하면서는 일하면서 뭔가 책임도 따르는 것도 있고 의무적으로 해야 될 것도 있고 확실히 다르긴 하지.그래서 인턴 때 많이 배웠던 부분들이 실제로 실무할 때 많이 도움이 되어야 되는데 그때 혹시 우리 인턴 때 했던 숙제들 중에 과제들 중에 실제 지금 실무하면서 도움이 됐던 분들이 어떤 부분일까?'], ['코치이', '01:45', '일단 지금 실무에 하는 게 주로 LCA 데이터 수집하고 이제 그 값들 소프트웨어 입력하고 이런 것들이다 보니까 인턴 때 했던 것 중에는 이제 LCA 실제 한 제품 대상으로 해가지고 직접 이제 진행을 해봤던 거 그게 가장 도움이 됐던 것 같아요.아무래도 LCA 업무다 보니까 직접적으로 연관 인턴 때 esg 관련된 것도 많이 공부하고 배웠었는데 그런 부분은 아직까지는 사용하지 못하고 있고 나중에 김진아 수석이라든지 함께 도울 때 쓸 일이 있지 않을까'], ['코치', '02:19', 'LC는 지금 하고 있지만 esg 관련 업무도 어차피 지금 김진환 수석이 하고 있으니까 네 그렇죠 같이 이소로 짐이랑 같이 백업해서 같이 도와주면 좋을 것 같아.이소로 짐이랑 어떻게 보면 esg에 있는 평가나 CDP 하는 거 보면 각각의 문항들이 지금 이준이 취합하는 데이터 이런 것들 많이 걸려 있으니까 맞아요.그거 같이 해주면 좋을 것 같고 근데 요즘은 이제 전공이 화공이잖아.화공하면서 이쪽으로 튼 배경이 정확히 뭐였었지 그때'], ['코치이', '02:53', '면접 때야 사실은 이쪽에 뜻이 있어서라고 말씀을 드렸겠지만 사실 서울 근무가 제일 컸고요.서울에서 근무를 하고 싶은데 이제 화학공학과 같은 경우에는 대부분 다 사업장에서 근무를 하기'], ['코치', '03:06', '사업장 제조 사업장 2층'], ['코치이', '03:08', '사업장도 화학공학 관련된 것들은 여수 울산 이런 쪽으로 되게 먼 지방 쪽이라서 그래서 부모님 아무래도 나이도 있으시고 저는 좀 늦둥이인 편이라서 하다 보니까 이제 좀 서울에서 시간을 가족이랑 보내고 싶은데 제 전공을 그나마 살릴 수 있는 것 중에 서울 근무할 수 있는 것을 찾아서 좀 준비를 하게 됐었죠.'], ['코치', '03:32', '가장 큰 니즈는 일단 서울 같이 그리고 집이 여기 바로 목동 근처니까 가깝고 맞아요.'], ['코치이', '03:43', '좀 장점이죠. 가깝다는'], ['코치', '03:45', '맞아 요즘에 직원들이 집 주변 제일 선호하니까 회사를'], ['코치이', '03:50', '출퇴근이 진짜 하루에 한 2시간만 걸려도 체력이 은근히 많이 빠지더라고요.1시간 왔다 갔다 하는'], ['코치', '03:58', '내가 예전에 김포에서 1년 반 동안 과천으로 출퇴근했어.편도 1시간 40분 편도'], ['코치이', '04:05', '하루에 3시간을 거의 그 쓰시는 거니까.'], ['코치', '04:08', '근데 이제 최소 회사에는 그래도 한 20분 전에 도착을 하고 있으니까 그때 당시에도 그러면 집에서 7시 6시 50분에 나왔어.집에 들어가면 9시 되고 그때 내가 생각보면 그때 어떻게 다니는지 모르겠어.솔직히 지금도 보면 멀리 다니는 직원들 보면'], ['코치이', '04:28', '대단한 것 같기도 해요. 맞아요. 맞아요. 저도 그렇게 생각해요.김진아 소속도 판교에서 맨날 왔다 갔다 하는 거 보면 대단하신 것 같아요.'], ['코치', '04:37', '그래도 셔틀이 있으니까 맞아요. 그나마 좀 다행인 건데'], ['코치이', '04:40', '김포 과천 셔텔은 없었어요.'], ['코치', '04:43', '마곡에 와서 셔틀이 생긴 거지. 근데 나는 저기 과천에 살 때 이미 김포로 이사를 했으니까 미리 1년 반 전에 그래도 그 기간 동안 이렇게 출퇴근 하던 거야.그 마국에 오자마자 이제 다행이다.'], ['코치이', '04:57', '그렇죠 그렇죠 그나마 좀 김포에서 가까우니까'], ['코치', '05:02', '일단 아까 업무 얘기한 거는 아까 LC 업무를 지금 당장은 하고 있는데 LCA가 어떻게 보면 지금 현재는 작년에 우리 8개 했었고 지금 올해도 8개 하고 있지.네 현대차 2개 추가되면 10개 맞아요. 지금 이제 10개 제품 하고 있는데 우리가 해야 될 LC 제품은 워낙 많아 앞으로 그 일은 계속해 나가야 될 테고 승인 주은 이제 지금 이제 입사 1년 차니까 내가 얘기도 했지만 1년 차 3년 차 예를 들면 약간 단기적인 개념에서 내가 3년 차 5년 차 때 모습 약간 중기적으로 보면 내가 10년 차 근데 그때쯤 되면 내가 어떤 커리어를 가진 이승현이라는 사람이 무슨 일을 하는 사람일까라는 걸 한번 예측을 해보면 어떤 모습의 역할을 하는 사람이 되고 싶어 예를 들면 딱 끊어서 두 가지 얘기하면 3년 5년 뒤 나라는 사람이 뭘 하고 있을 사람이 되고 싶은지 그다음에 10년 뒤에는 나라는 사람이 어떤 역할을 하는 사람이 되고 싶은지 회사에서'], ['코치이', '06:08', '일단은 한 3년 5년 이 안에는 지금 당장은 제가 LC 업무를 하면서 부족함을 되게 많이 느끼거든요.어떻게 보면 사업장분들한테 이 사업장의 언어랑 저희가 사용하는 언어랑 또 다르더라고요.그래서 제가 어떤 말을 해도 못 알아들으실 때도 많고 그럴 때마다 이소리 주임 도움받아서 이제 커뮤니케이션하기도 하고 그래서 아직까지는 LCA 업무에 대해서도 좀 부족함을 많이 느껴서 한 3년 5년 이 동안은 좀 많이 배우고 LCA 업무를 좀 더 심화적으로 들어가서 이제 제가 이소리 주님의 도움 없이도 좀 그냥 혼자서도 LCA 다 담당할 수 있을 정도의 역량을 좀 키우고 싶어요.그리고 한 10년 정도라고 생각을 하면 기본적으로 저희가 한 2026년 정도부터 지속가능 경영보고서 검토한다고 하잖아요.그래서 일단은 당연히 그 3년 5년 간에'], ['코치이', '07:07', 'LCA도 깊게 파고들어야겠지만 또 esg 관련된 업무도 같이 도와야 될 거기 때문에 이렇게 어깨 너머로 배운 것들이랑 좀 더 제가 온실가스 관리기사라든지 아니면 대학원을 다닌다든지 esg 자격증을 취득한다든지 그런 식의 따로 공부를 또 노력을 해가지고 좀 esg적인 측면에서 최종적으로는 좀 모든 부분을 커버해서 지속가능경영 보고서의 모든 부분을 담당할 수 있는 인재가 되는 게 이제 10년 차 정도의 목표인 것 같아요.'], ['코치', '07:42', '그래 3년 5년 때는 LH에 일단 집중해서 심화에서 혼자 할 수 있는 정도 키우고 싶고 10년 후를 보면 일단 esg 업무를 전문적으로 하는 사람 그래 일단 10년 안에 그림 안에는 LCA와 esg네 그렇죠 그치'], ['코치이', '08:02', '추가적으로 제가 전공이 화학신소재공학이잖아요.그거를 사용할 수 있는 업무가 또 있으면 거기에도 또 보탬이 되는 게 그것도 괜찮을 것 같아요.그래'], ['코치', '08:17', '우리 팀의 업무 자체가 두 개가 있잖아 esg LC에게 하는 게 하나 그다음에 이제 기술에 관한 게 하나 있는데 지금 이제 esg lec는 승현 줌이 일하고 있는 파트에 이제 이런 일을 하고 있는 거고 그 일 관점에서 일단 단기적인 거 약간 10년적인 관점에서 얘기를 해준 거고 지금 이제 추가적으로 이제 전공을 살려서 할 수 있는 부분도 얘기하긴 했는데 어떻게 보면 이제 기술 기획 쪽이 약간 화공 베이스가 필요한 업무들이 좀 많이 있거든.그리고 약간 이공계 기반의 일들. 근데 우리 팀에 보면 이공계 인력은 실제로 보면 유지희 책임이랑 이승현 주임밖에 없거든.지금 기술계 채용이긴 한데 일단 별개 파트이긴 한데 그래 아까 지금 얘기한 대로 승현 씨 얘기대로 10년 이후를 보면 esg LCA 전문가는 일단 필수적인 것 같고 내가 볼 때는 추가적으로 기술 기획까지 좀 할 수 있는 부분까지도 같이 인벌브 하면 좋을 것 같긴 해.그 팀을 봤을 때 그리고 회사를 봤을 때도'], ['코치', '09:22', '그리고 이제 3년 5년을 보면 3년 5년 차 되는 사람이 누구일까를 봐봐.그럼 지금 현재 이소리 주임 지금 한 3년 차 될 거야 그 그치 그 정도 3년 차 된다고 한다면 어떻게 보면 그 사람을 보고 목표를 잡는 것도 좋을 것 같아.그래서 내가 3년 차 때는 이소리 주임처럼 일을 저렇게 쳐낼 수 있는 정도 만 되어도 충분하지 않을까 싶기도 하고 만약에 욕심낸다면 이소리지보다 한 1~2년 뒤에 더 성장한 모습을 목표로 삼을 수 있겠지.그 정도 하면 좋을 것 같기도 하고 그 아까 사업장인 커뮤니케이션이 어렵다고 얘기했었잖아.이게 실제로 보면 커뮤니케이션이 제일 어려워 회사에서는 그렇죠 아다르고 어다라고 나는 이런 뉘앙스로 얘기를 했는데 상대방은 그렇게 이해하지 못하고 그러니까 내가 얘기하는 정보 자체가 잘못 받아들일 수 있는 거고 그다음에 나는 이렇게 했는데 그 사람도 이렇게 이해했는데도 불구하고 나중에 올 때 또 다른 정보가 올 수도 있거든.'], ['코치', '10:27', '근데 이럴 때 이제 이 커뮤니케이션을 어떻게 하느냐가 또 하나인 거고 그다음에 이 커뮤니케이션 잘하기 위해서는 사람을 먼저 잘 알아야 되는데 사람을 잘 몰라서 컴퓨터 못하는 방법도 있거든.그래서 그리고 내가 계속 누누이 얘기했던 게 우리가 LC 하는 업무 자체가 이제 사업장에 공장 담당자가 커뮤니케이션을 많이 하니까 이 공장 담당자를 미리 좀 킥오프 했을 때 같이 모여서 좀 얘기하고 얼굴도 익히고 좀 친밀감을 형성해 놓은 상태에서 일을 했으면 좋았지 않았을까라는 아쉬움이 있긴 해.그래서 지금 어차피 좀 그건 못했지만 지금 당장은 지금 홍경국 수석은 지난번에 얼굴 봐서 일단 안매는 좀 이겼고 나머지 좀 얼굴을 잘 모르는 사람들을 나중에 좀 구미 갈 수 있는 기회를 만들어서 한번 이렇게 얼굴 보고 인사드리고 좀 그런 자리가 필요할 것 같긴 해.그래야 나중에 일도 좀 하는데 좀 편 수월할 수도 있고 그렇죠 그렇죠 맞아요.그리고'], ['코치', '11:29', 'MC 하는 업무에서 공정도 있잖아. 공정도 그때 정재 주임이 이거 다 좀 설명해 주고 나갔어.'], ['코치이', '11:37', '어느 정도 그래도'], ['코치', '11:38', '파일들은 혹시 어디 있는지 알아 설명해 준 파일들'], ['코치이', '11:41', '저장해놨다. 공유 폴더에 저장해놨어.'], ['코치', '11:43', '어떤 파일인지 다 알고 그리고 이거 하려면 그 공정도 좀 다 알아야 되니까 나중에 한번 리마인드 체에 한번 나랑 같이 한번 다시 한 번 얘기 좀 해보자 이렇게 하고 아까 얘기한 이제 10년 뒤 성장하는 모습을 생각해 보면 10년 뒤는 누가 했을까'], ['코치이', '12:04', '10년 뒤에요.'], ['코치', '12:05', '뒤를 보면 이제 지금 현재 내가 뭔가 롤모델로 삼을 수 있는 사람이 누가 있을까?승현 주임이 봤을 때 굳이 1년 차가 아니더라. 10년에 그 이상 되는 직급제라고 하더라도'], ['코치이', '12:17', '보통 10년이면 이제 수석이 되나요? 딱 수석 초반'], ['코치', '12:25', '그렇지 뭐 책임 말후나 지금 현재 직급은 책임 말이나 그럴 수 있겠네.수석이 될 수도 있고 더 위에 사람 봐도 돼. 뭐 팀장들 봐도 되고 본부장님 상대도 봐도 되고'], ['코치이', '12:43', '제 뭔가 롤 모델로 삼을 만한'], ['코치', '12:46', '약간 10년 되면 이제는 실무자 형태가 중간관리자 형태가 될 거고'], ['코치이', '12:49', '네 그죠 그렇죠'], ['코치', '12:52', '팀에서 이제 핵심 실무를 하면서도 밑에 직원들을 케어하는 그런 중간 정도의 관리자 형태가 될 텐데'], ['코치이', '13:00', '사실 다른 팀의 어떤 그 정도 연차 되는 분들을 잘 알지는 못해서 제가 볼 수 있는 건 김진아 수석 정도 팀장님 정도인데 일단 뭔가 두 분 다 기획 업무를 어느 정도 많이 오래 하셨어서 그런지 좀 이렇게 전사적인 그런 시야가 좀 되게 넓으시더라고요.그래서 저는 되게 이렇게 좁게 지금 LCA 부분에 대해서만 보고 있는데 그런 부분들 되게 많이 배우고 있어요.두 분이 얘기하시는 그것도 들으면서 회사가 어떤 걸 하고 있고 주로 이제 대표님이랑 커뮤니케이션 많이 하시잖아요.그래서 대표님 보고 자료 같은 거 메일에 저도 참조 걸어주시면 그것도 가끔씩 읽어보면서 어떤 식으로 대표님이랑 커뮤니케이션 해야 되는지 그런 것들도 좀 보고 있고요.그래서 기본적으로는 롤 모델이라고 한다면 두 분 보면서 조금 성장하는 게 더 좋지 않을까 그래'], ['코치', '14:02', '그러니까 이제 좀 나도 이제 얘기하고 싶은 부분이 그 기획에 대한 관점 전사적인 관점 우리가 LCL만 하게 하다 그 업무만 특화해서 하게 되면 그 단위 제품만 알게 되거든.맞아요. 회사가 전체로 돌아가는 상황들은 모르게 되는데 맞아요.근데 지금 하는 업무 관점에서 좀 그런 것들을 어떻게 잘 알 수 있을까라는 방법을 좀 생각을 해보면 esg 관련된 업무를 조금만 더 인b브하면 회사에 돌아가는 상황들 어떤 전사적인 관점 이런 것들은 좀 많이 알 수 있을 것 같아.왜냐면 우리 엊그제 현대차 esg 평가 보고할 때도 보면 인사 법무 윤리 그렇죠 다 포함돼 있으니까 그런 것들도 다 포함돼 있고 하니까 그런 것들을 이제 보고 회의체 당사자로 참석을 안 한다고 하더라도 내용을 보면 내가 충분히 이해하고 할 수 있는 부분들이 많이 있거든.그렇죠 그런 것도 보고 그다음에 나중에 그런 것도 솔직히 이제 프로젝트 베이스로 뭔가 일을 하게 되면 이해하는데 이렇게 하나하나 과정이 될 수 있거든.'], ['코치이', '15:07', '프로젝트'], ['코치', '15:08', '그래서 그런 것도 만약에 다른 여타의 프로젝트 베이스들이 생기면 그런 일들 하다 보면 아마 시간이 지나고 경험이 쌓이다 보면 그런 시야 시각을 넓히는 부분은 조금씩 해소가 될 수 있을 것 같긴 해.그게 단번에 막 이렇게 전사를 볼 수 있는 시간은 안 되는 것 같고 지금 우리 기획팀의 동기가 없지 바로 위지 전유선 주임이랑 강우재 주임이 맞아요.맞아요. 한 세 달 네 그 친구들도 아직은 기획팀 소속이지만 전사적으로 모든 걸 다 볼 수 있는 희한한 시각을 가졌다라고 보긴 어려우니까 일을 하나하나 하다 보면 숙적할 수 있을 것 같거든.그래서 지금 이승현 지은 esg 업무 쪽으로 조금만 더 인발브 하면서 그쪽 시야를 넓히면 충분히 약간 이렇게 좁게 보는 것보다 시야를 조금 더 단계적으로 좀 더 높일 수 있는 기회는 있을 것 같긴 해.'], ['코치이', '16:06', '네 저도 맞아요.'], ['코치', '16:10', '요즘에 뭐 힘들거나'], ['코치이', '16:13', '힘든 거요.'], ['코치', '16:14', '불편하거나 어렵거나 뭔가 좀 이렇게 뭘 해줬으면 좋겠어 하는 그런 아쉬움 같은 거 없을까?팀이나 나한테'], ['코치이', '16:24', '팀원분들한테 대한 아쉬움이나 해줬으면 좋겠는 거 이런 건 사실 없고'], ['코치', '16:29', '그래 팀원들이 다 잘해줘.'], ['코치이', '16:31', '네 잘해주세요. 진짜 기본적으로 너무 잘 대해주시고 친절하게 대해주시고 신경도 많이 써주시고 어제도 팀장님 DX 교육 때문에 안 계셨잖아요.근데 제가 11시 반 제가 점심 약속이 있었거든요.근데 11시 반에 한 제가 화장실 잠깐 갔는데 먼저 이소 전화 걸어 점심 약속 혹시 있냐고 먼저 물어봐 주시고 그런 것도 되게 감사했고 제가 먼저 여쭤봤어야 됐는데'], ['코치', '17:01', '그래서 어제 셋이 같이 먹었어.'], ['코치이', '17:04', '어제는 제가 따로 동기들이랑 약속이 원래 있었어 있었었는데 먼저 미리 말씀 못 드려서 죄송하다고 그랬죠.그래서 그런 부분도 먼저 신경 써주시고'], ['코치', '17:15', '그래서 어제 저기 김진영 석이랑 이소리 주임이랑 유지 치이랑 셋이 같이 먹.'], ['코치이', '17:20', '네네네. 맞아요.'], ['코치', '17:21', '사실 커피도 마시고 있던데 비어드에서'], ['코치이', '17:25', '그런 부분은 되게 잘 챙겨주셔서 감사합니다. 그나마 좀 뭔가 제가 어려움을 느끼고 있는 부분이라면 기본적으로 LCA가 데이터 수집 기한이 다 있잖아요.그래서 보통 사업장 분들이 물론 협조를 잘 해 주시는 분들도 있지만 이렇게 아무래도 높은 직급의 분들이다 보니까 협조가 잘 안 되는 경우도 있고 기한이 훨씬 넘는 경우도 있고 그럴 때마다 이제 매번 독촉 아닌 독촉을 해야 되는데 이렇게 빨리 달라고 이 데이터를 말씀을 드려야 되는데 그런 부분이 좀 반복적으로 말씀드리기도 애매하고 이게 뭐 전화를 걸 때도 있고 메신저를 드릴 때도 있고 메일을 드릴 때도 있고 다양한 방식으로 시도를 하는데 그런 부분이 뭔가 연락할 때마다 마음이 불편한 거는 좀 이제 좀 적응을 해나가고 있는 중이긴 한 것 같아요.마음이 예전에는 좀 유약했다면 이제는 좀 좀 딴딴해지고 있는 것 같아요.그런 거에 있어서'], ['코치', '18:25', '만약에 이렇게 일하다가 협조가 안 되고 이런 어려움들이 있으면 혼자 머리 싸매고 있지 말고 이수 집한테 얘기해서 안 되는 거 있으면 나한테 바로바로 얘기해줘.특히 이제 LC 같은 경우는 이제 관련 부서 팀장들하고 커뮤니케이션하는 게 제일 어렵잖아.그렇죠. 특히 이제 그런 부분이 있으면 나한테 바로바로 얘기해 주고 그러면 내가 이제 바로바로 얘기해 줄 수 있으니까'], ['코치이', '18:46', '보통 이제 질의사항 생기면 이렇게 관련해서 커뮤니케이션 계속 하게 되잖아요.그 데이터 관련 질의사항 근데 이제 질의사항을 받았는데 잘못 답변이 왔다거나 아니면 또 그거에 대한 질의사항이 또 생긴다거나 이럴 때 또 곧바로 연락드리기가 좀 그런 부분이 좀 조심스럽더라고요.그래서 이거는 뭐 제가 앞으로 이렇게 잘 적응해서 그분들이랑 사실 안면을 진짜 팀장 말씀대로 텄다면 아무래도 그런 거에 있어서 조금은 덜 어려울 텐데 아예 뵌 적도 없는 분들이다 보니까 그런 게 좀'], ['코치', '19:20', '그치. 그리고 공장에 계시면 워낙 바쁘니까 이거 하나하나 대응하기가 쉽지 않으니까'], ['코치이', '19:28', '제가 생각해도 이렇게 질문 이렇게 와다다다 하면 이게 뭐야 약간 이런 생각하실 것 같아가지고'], ['코치', '19:35', '그러니까 하나를 이렇게 좀 사소한 것도 좀 질의 답변이 필요한 부분은 어떻게 이렇게 효율적으로 해소할 수 있을까 그 그때그때 다 이렇게 물어보고'], ['코치이', '19:50', '근데 그래도 작년에 한 번 그래도 LCA 해보셨던 분들은 그런 거에 익숙하신지 되게 잘 해 주시는데 그래서 이거는 약간 시간이 해결해 줄 문제인 것 같긴 해요.이게 LCA를 여러 번 수행하시다 보면 그래도 매년 돌아오는 그런 연례 행사처럼 받아들이시지 않을까 그래 혹시 뭐 다른 우리'], ['코치', '20:14', '같이 있는데 김진환 수석이나 이소리 주임이 어떻게 보면 다 여성 인력인데 그렇죠 그러면서 어려운 건 없어'], ['코치이', '20:22', '진짜 저는 그런 건 없어요. 사실 고등학교 때도 여초였고 역초수 집단에 있던 때가 있었어서 그런 부분에 있어서는 어려운 워낙 또 근데 쿨하세요 두 분 다 좀 쿨하신 편이라서 보통 먼저 장난 걸어주시고 이러니까'], ['코치', '20:46', '다행이네. 그래도 김지현 선생님이 더 털털하고 그러시죠'], ['코치', '20:56', '요즘에 뭐 이렇게 언제 공부하는 거 언제 한다고 그랬지 자격증 같은 거'], ['코치이', '21:02', '이거 6월에 이제 신청을 하고요. 7월에 이제 시험을 볼 것 같아요.필기 시험이 7월이고 한 8월 9월쯤에 또 실기 시험 보고 이렇게 해서 온실가스 관리 기사는 취득을 할 것 같고 대학원도 좀 알아봐서 내후년 정도에 가면 좋지 않을까'], ['코치', '21:23', '대학원이라면 어떤 대학원이 있을까? 요즘에 esg 대학원이 있지'], ['코치이', '21:27', '네 있어요.'], ['코치', '21:29', '그래 그런 것도 괜찮을 것 같긴 해. 나도 요즘에 그 수업을 들어보니까 이런 게 그냥 학과 정규 과정으로 있어도 좋겠구나라는 생각이 들더라고.'], ['코치이', '21:39', '저희 형이 이제 서강대에서 MBA 하고 있는데 지금 하고 있어.네 지금 이제 이제 졸업해요. 근데 esg 쪽이 아직은 뭐랄까 생긴 지 얼마 안 돼서 엄청 잘 갖춰지지 않았다고 한 그래도 한 3년에서 5년 정도 뒤에 가면 더 좋은 커리큘럼으로 갈 수 있을 것 같다고 조언을 해주긴 했는데 그래서 그 부분도 좀 생각을 하고 있고 그렇지'], ['코치', '22:05', 'esg 정규 과정이 생긴 지가 얼마 안 됐을 거야. 그래도 학교도 몇 개 없어 맞아요 몇 개 없어?esg 대학원 과정도'], ['코치이', '22:12', '그렇죠.'], ['코치', '22:16', '그런 것도 좋을 것 같기도 하고 혹시 뭐 나한테 뭐 이렇게 얘기하고 싶거나 뭘 해줬으면 좋겠어요 뭐 이런 거 바라는 것들은'], ['코치이', '22:31', '바라는 거예요. 진짜 근데 진짜 없거든요. 워낙 또 잘 해 주시니까 팀원분들한테'], ['코치', '22:38', '이런 거 보통 원래 팀장이 없어야 이제 얘기할 텐데 팀원들끼리 얘기하면서 팀원들이 서로 이제 얘기하면서 우리 팀원이 이런 거 좀 해줬으면 좋겠는데 이런 거 얘기할 텐데'], ['코치이', '22:47', '근데 이제 다들 이제 동기들이랑 막 얘기하잖아요.동기들이랑 팀 분위기가 어떻고 이런 얘기들을 하게 되면 보통 유연근무제 쓰고 싶은데 아무도 쓰시는 분이 없어서 못 쓰겠다 뭐 이런 얘기들도 많이 하고 저희 팀은 근데 또 유연근무제도 또 나름대로 장려를 해주시잖아요.유연근무제에 쓰라고 먼저 말도 해주시고 그래서 그런 부분도 저는 되게 좋고 어떤 말을 할 때 되게 잘 들어주시니까 크게 평소에 말 못했던 부분이라든지 그런 거 없는 것 같아요.'], ['코치', '23:21', '동기들 다른 팀에 있을 때 혹시 막 이렇게 간접적으로 들은 뭘 해줬으면 좋겠다 왜 이건 안 해주지 뭐 이런 불평은 혹시 뭐가 있었어'], ['코치이', '23:32', '일단 유연근무제 되게 많이'], ['코치', '23:34', '유형 금질에 대한 불평물만'], ['코치이', '23:36', '보통 이제 6시에 퇴근을 하게 되잖아요. 근데 저는 어느 정도 업무를 마무리한 상태인데 이제 다른 팀원분들이 이제 다 앉아 계시면 이제 거기서 그냥 먼저 가보겠습니다 하고 일어나기가 조금 어렵다고들 얘기를 하는데 저는 그냥 사실 저희 팀은 그냥 저는 그냥 해가지고 그런 부분도'], ['코치', '24:02', '그치 아직까지도 그런 게 몇몇 팀은 있는 것 같아. 그치 눈치 보고 퇴근 못 하고 일이 다 끝났는데도 오늘 일 다 끝났는데도 그냥 윗사람들이 앉아 있으니까 나도 앉아 있고 그'], ['코치이', '24:13', '차라리 뭔가 일이 있어서 앉아 있으면 그래도 뭔가 마음은 편한데 일이 없는 데 앉아 있는 게 사실 저는 제일 힘든 것 같아요.'], ['코치', '24:22', '난 오히려 그래서 가끔 그렇게 해. 그냥 6시 땡 치면 내가 자리를 살짝 비워.'], ['코치이', '24:27', '근데 또 근데'], ['코치', '24:30', '그러신 거구나 그냥 눈치 보고 이렇게 인사드리고 가기가 좀 그러니까 오히려 내가 자리를 살짝 비우면 그냥 눈치 안 보고 갈 수 있지 않을까 싶은 것도 있어서 내가 가끔씩 비우기도 해.6시.'], ['코치이', '24:43', '근데 저는 오히려 인사드리고 가야겠다 싶어가지고 그냥 좀 더 기다렸거든요.팀장님한테 인사를 드리고 가야겠다'], ['코치', '24:49', '일부 그렇게 생각하는 사람도 있을 것 같아서'], ['코치이', '24:51', '그렇죠'], ['코치', '24:53', '왜냐하면 그렇잖아 왠지 가야 될 때 인사하고 가야겠다는 생각이 또 들기도 하고 하니까 그쵸.근데 물론 또 그럴 수 있어. 자리 없으면 어디 갔지 인사하고 가야 되는데 가야 되는데 맞아요.꼭 왜 퇴근 때 자리 비우는 거야 그랬더니 내가 옛날에 그랬었거든 나도 나도 나 퇴근해야 되는데 항상 윗사람이 없는 거야.그럼 한참 있다 오는 거야 그럼 그때까지 내가 기다렸다가 퇴근하고 어떤 때는 그냥 가도 되나 싶겠다.'], ['코치이', '25:17', '인사도 없이 쌩하고 그냥 퇴근해버리면 또 기분이 좀 그러실 수 있을'], ['코치', '25:22', '요즘에는 그냥 퇴근 때는 퇴근 시간 되면 알아서 퇴근하는 문화 사서 굳이 나는 그렇게 퇴근할 때는 그냥 출근할 때는 그래도 출근할 때는 그냥 서로 인사 정도만 하면 되지 뭐'], ['코치이', '25:32', '네 그렇죠 그렇죠 그래도 김진아 수석이랑 이소리 주임한테는 혹시 도와드릴 거 혹시 두 분 다 계시면 도와드릴 거 없으시냐고 여쭤보고 퇴근하긴 하거든요.없다고 그러셨을 때 퇴근하긴 한데 그래 보통 이제 동기들은 다 다 출퇴근 거구나.출퇴근 뭐 사실 이 업무 시간에 일이 많은 거는 불만이 없어요.다들 당연한 거니까 그렇지.'], ['코치', '26:00', '아직 업무에 대한 번아웃이 올 시기는 아니지 그렇죠 아직 기간이 짧고 아직'], ['코치이', '26:05', '정신없이 그냥 배워가는 때다 보니까'], ['코치', '26:08', '저기가 조금 그렇겠다. 이번에 분사해서 이전하는 친구'], ['코치이', '26:13', '비서 네 그렇죠'], ['코치', '26:17', '거기는 일도 많을 텐데'], ['코치이', '26:19', '정신이 없는 것 같더라고요. 진짜 또 동기들이랑도 조금 뭔가 멀어진 기분을 들어하는 것 같아서 괜히 뭔가 예전에는 쉽게 점심 같이 먹자고 했던 친구인데 이제는 그런 말도 하기 어렵다고 얘기를 해가지고 오히려 저희가 먼저 이제 마국에 있을 때 먼저 먹자고 하고'], ['코치', '26:45', '그래 업무적인 관점에서 내가 뭘 더 이렇게 좀 케어를 해주거나 뭘 좀 더 알려줬으면 좋겠어.혹시 혹시라도 생각해 보면 뭘 더 봐줬으면 좋겠다 아니면 뭘 이렇게 방향성을 좀 더 줬으면 좋겠다 가이드나 이런 것들 혹시 있을까?'], ['코치이', '27:08', '저는 보통 이소리 주임님이랑 함께 일을 해서 그런 가이드 한번 이 부분은 제가 이소리 주임님한테 여쭤보기도 해야겠네요.왜냐하면 이게 보통 저한테 팀장님이 이소리 주임한테 얘기 이소리 주임이 저한테 얘기를 하고 이런 식으로 전달 전달이 되잖아요.그래서 저는 주로 이소리 주임이 하라는 대로 뭔가를 하기 때문에'], ['코치', '27:39', '그래서 이제 팀장 같은 경우는 그래도 팀원들 개개인의 니즈를 좀 많이 알고 있어야 되니까 그렇죠 이 팀원들은 혹시 이 팀은 뭘 가장 하고 싶어 할까 업무에 대한 어떤 고갈 같은 게 있을 거 아니야 뭘 하고 싶은 그런 욕구 욕망 회사에서 회사 생활하면서 회사 생활 나는 정말로 학교 학교 다니다가 회사 왔으니까 회사 생활 하면 나는 정말 이거는 정말 내가 좀 해보고 싶어 하는 것들이 있을 텐데 예를 들면 그런 거 있잖아.난 회사 생활에 가서 많은 사람들 좀 알고 싶어 어울리고 싶고 예를 들어서 그러면서 밥도 많이 먹고 싶고 그런 것도 있어.아니면 뭐 나는 우리 팀에 있는 업무 중에 기술 개을 제가 조금만 어떻게 돌아가는지 좀 알고 싶어요.정기적으로 상황들을 이런 것도 있을 거고 아니면 회사 전체적인 상황 경영에 대한 이슈 같은 거 혹시 이렇게 주 단위로라도 아니면 월 단위라도 팀에 한 번씩 이렇게 공유해 주면 안 될까요?이런 것들이 있을 거 아니야'], ['코치이', '28:43', '정리해 주시잖아요. 그렇죠 월요일 이런 회의 때 이런'], ['코치', '28:47', '근데 되게 간헐적이지 간헐적으로 이슈 있을 때 그런 것도 이제 호응을 해 줄 수 있는 거지.내가 이렇게 얘기해 주면 팀장님 이런 거 너무 좋은 것 같은데 이런 거 있을 때마다 좀 자주 알려줬으면 좋겠습니다.이런 것도 물론 얘기하기가 쉽지는 않겠지만 그런 것도 뭐 그렇죠 서슴없이 얘기하면 좋지.'], ['코치이', '29:07', '네 앞으로 그런'], ['코치', '29:08', '의견들 있으면 바로바로 말씀드리겠습니다. 그래 이렇게 하고 요즘에도 계속 이렇게 출퇴근은 계속 지하철 타고 다니지'], ['코치이', '29:20', '진짜 가까워지고 이제 또 여름에 더워지면 이제 마곡나에서 셔트를 탈'], ['코치', '29:27', '회사 업무 말고 개인적으로는 어려운 거나 이런 건 없고'], ['코치이', '29:30', '개인적으로는 좋죠. 부모님도 잘 계시고 그래 그렇죠 팀장님은 좀 괜찮으세요?그래'], ['코치', '29:38', '나는 이래저래 생각할 게 너무 많아가지고 머릿속이 복잡하네.'], ['코치이', '29:44', '그런 개인적인'], ['코치', '29:45', '그런 것도 있고 근데 어차피 이 정도 이제 나이가 되면 내가 이제 관여하는 분야들이 워낙 많아지다 보니까 걱정이 있을 수밖에 없어 물론 걱정한다고 해서 해결이 되는 건 아니야.또 다 성향 차이인데 그렇죠 나는 이제 걱정이 조금 많은 성향 타입이고 개개인마다 다르니까 그래 나중에 이런 거 우리 얘기하는 거는 진짜 자주 하자.내가 내가 연초도 목표를 세웠었는데 솔직히 못 했어.팀원들 이렇게 개별적으로 좀 한 번 한 번씩 이렇게 좀 얘기도 좀 많이 하려고 그랬는데 많이 못했어.내가 최근에 지난번에는 유재희 책임은 한 번 잠깐 얘기했었고 정재엽 주임 나갈 때 김진아 수석은 처음에 왔을 때 얘기하고 그뒤로 또 얘기를 못했고, 요즘에 내가 이소리 주임하고는 얘기를 못했네.잘 이소리 주임하고 얘기를 한번 해봐야 돼. 이런 기회로'], ['코치이', '30:39', '그래'], ['코치', '30:46', '그래 이 정도로 오늘은 마무리하고 우리 다음에 또 이런 기회를 하면 종종 인터뷰 좀 하자.그래 수고했어.clovanote.naver.com']]\n"
     ]
    }
   ],
   "source": [
    "print(data)"
   ]
  },
  {
   "cell_type": "code",
   "execution_count": 15,
   "metadata": {},
   "outputs": [],
   "source": [
    "df = pd.DataFrame(data, columns=['talker','time','content'])"
   ]
  },
  {
   "cell_type": "code",
   "execution_count": 19,
   "metadata": {},
   "outputs": [
    {
     "name": "stdout",
     "output_type": "stream",
     "text": [
      "csv file saved\n"
     ]
    }
   ],
   "source": [
    "# save as csv\n",
    "df.to_csv('2순위추천_김용인_1차.csv',index=False,encoding='utf-8')\n",
    "print('csv file saved')"
   ]
  },
  {
   "cell_type": "markdown",
   "metadata": {},
   "source": [
    "- 처음에는 시작하는지점부터 해서 , 밑에꺼는 없애서 content가 저장되지않음\n",
    "- 두번쨰에는 current_talker를 추가해, 현재 말하고있는 화자가 바뀌지않았을경우, 현재 content에 계속 append()할수있게 만들었음\n",
    "- 결과적으로 content컬럼에 다 맞게 들어감"
   ]
  },
  {
   "cell_type": "markdown",
   "metadata": {},
   "source": [
    "#### 주제모델링"
   ]
  },
  {
   "cell_type": "code",
   "execution_count": 30,
   "metadata": {},
   "outputs": [
    {
     "name": "stdout",
     "output_type": "stream",
     "text": [
      "  talker   time                                            content\n",
      "0     코치  00:00  시작했습니다. 그래요. 승현이 이제 입사한 지 2월, 3월, 4월 5월 이제 한 1...\n",
      "1    코치이  00:13                           인턴 포함하면 그래도 한 8개월 8개월까지는\n",
      "2     코치  00:22                                      인턴 때 한 6주 했었지\n"
     ]
    }
   ],
   "source": [
    "# 데이터 로드 및 전처리\n",
    "df = pd.read_csv('2순위추천_김용인_1차.csv',encoding='utf-8')\n",
    "print(df.head(3))\n",
    "\n",
    "#head() : df 내용을 볼수있는 함수 ()안에는 보고싶은 숫자를 넣을수 있음"
   ]
  },
  {
   "cell_type": "code",
   "execution_count": 23,
   "metadata": {},
   "outputs": [],
   "source": [
    "# 주제모델링\n",
    "# lda를 사용하여 주제추출, 형태소 분석기를 사용하여 텍스트를 토큰화(konlpy)\n",
    "# import\n",
    "from konlpy.tag import Okt\n",
    "from sklearn.feature_extraction.text import CountVectorizer\n",
    "from sklearn.decomposition import LatentDirichletAllocation"
   ]
  },
  {
   "cell_type": "code",
   "execution_count": 24,
   "metadata": {},
   "outputs": [],
   "source": [
    "# 형태소 분석기 초기화\n",
    "okt = Okt()"
   ]
  },
  {
   "cell_type": "code",
   "execution_count": 25,
   "metadata": {},
   "outputs": [],
   "source": [
    "# 토큰화 함수 정의\n",
    "def tokenize(text):\n",
    "    tokens = okt.nouns(text)\n",
    "    return ''.join(tokens)"
   ]
  },
  {
   "cell_type": "code",
   "execution_count": 26,
   "metadata": {},
   "outputs": [],
   "source": [
    "# 텍스트 데이터 토큰화\n",
    "df['tokens'] = df['content'].apply(tokenize)"
   ]
  },
  {
   "cell_type": "code",
   "execution_count": 31,
   "metadata": {},
   "outputs": [],
   "source": [
    "#ko_stopwords도 읽어오기\n",
    "stopwords_file_path = 'ko_stopwords.txt'\n",
    "with open(stopwords_file_path, 'r', encoding='utf-8')as file:\n",
    "    korean_stopwords = file.read().splitlines()"
   ]
  },
  {
   "cell_type": "code",
   "execution_count": 33,
   "metadata": {},
   "outputs": [
    {
     "name": "stderr",
     "output_type": "stream",
     "text": [
      "/opt/anaconda3/envs/venv/lib/python3.10/site-packages/sklearn/feature_extraction/text.py:408: UserWarning: Your stop_words may be inconsistent with your preprocessing. Tokenizing the stop words generated tokens ['가서', '같은', '것과', '결과에', '결론을', '관계가', '관련이', '그런', '그럼에도', '그렇게', '그에', '그치지', '김에', '까닭에', '낫다', '년도', '논하지', '누가', '다시', '달려', '대로', '대해', '되는', '되다', '되어', '들면', '들자면', '듯하다', '따르는', '따름이다', '따지지', '때가', '만은', '만이', '많은', '말하면', '말할것도', '몰라도', '몰랏다', '못하다', '미치다', '바꾸어서', '바꿔', '밖에', '방면으로', '보면', '보아', '부류의', '비길수', '비추어', '뿐만', '사람들', '상대적으로', '생각이다', '서술한바와같이', '쓰여', '아니다', '아니라', '안다', '안된다', '않고', '않기', '않는다면', '않다', '않다면', '않도록', '않으면', '알겠는가', '어쩔수', '없고', '없다', '예를', '외에', '요만한', '우에', '위에서', '이렇게', '이로', '이르다', '이와', '이유는', '인하여', '임에', '점에서', '정도에', '정도의', '종합한것과같이', '주저하지', '줄은', '지경이다', '틀림없다', '편이', '하고', '하기', '하기만', '하는', '하는것만', '하는것이', '하다', '하면', '하지', '한하다', '할수록', '함으로써', '해도', '해서는', '형식으로', '힘이'] not in stop_words.\n",
      "  warnings.warn(\n"
     ]
    }
   ],
   "source": [
    "# 벡터화\n",
    "vectorizer = CountVectorizer(max_df=0.9, min_df=2, stop_words=korean_stopwords)\n",
    "X = vectorizer.fit_transform(df['content'])"
   ]
  },
  {
   "cell_type": "code",
   "execution_count": 35,
   "metadata": {},
   "outputs": [
    {
     "data": {
      "text/html": [
       "<style>#sk-container-id-1 {\n",
       "  /* Definition of color scheme common for light and dark mode */\n",
       "  --sklearn-color-text: black;\n",
       "  --sklearn-color-line: gray;\n",
       "  /* Definition of color scheme for unfitted estimators */\n",
       "  --sklearn-color-unfitted-level-0: #fff5e6;\n",
       "  --sklearn-color-unfitted-level-1: #f6e4d2;\n",
       "  --sklearn-color-unfitted-level-2: #ffe0b3;\n",
       "  --sklearn-color-unfitted-level-3: chocolate;\n",
       "  /* Definition of color scheme for fitted estimators */\n",
       "  --sklearn-color-fitted-level-0: #f0f8ff;\n",
       "  --sklearn-color-fitted-level-1: #d4ebff;\n",
       "  --sklearn-color-fitted-level-2: #b3dbfd;\n",
       "  --sklearn-color-fitted-level-3: cornflowerblue;\n",
       "\n",
       "  /* Specific color for light theme */\n",
       "  --sklearn-color-text-on-default-background: var(--sg-text-color, var(--theme-code-foreground, var(--jp-content-font-color1, black)));\n",
       "  --sklearn-color-background: var(--sg-background-color, var(--theme-background, var(--jp-layout-color0, white)));\n",
       "  --sklearn-color-border-box: var(--sg-text-color, var(--theme-code-foreground, var(--jp-content-font-color1, black)));\n",
       "  --sklearn-color-icon: #696969;\n",
       "\n",
       "  @media (prefers-color-scheme: dark) {\n",
       "    /* Redefinition of color scheme for dark theme */\n",
       "    --sklearn-color-text-on-default-background: var(--sg-text-color, var(--theme-code-foreground, var(--jp-content-font-color1, white)));\n",
       "    --sklearn-color-background: var(--sg-background-color, var(--theme-background, var(--jp-layout-color0, #111)));\n",
       "    --sklearn-color-border-box: var(--sg-text-color, var(--theme-code-foreground, var(--jp-content-font-color1, white)));\n",
       "    --sklearn-color-icon: #878787;\n",
       "  }\n",
       "}\n",
       "\n",
       "#sk-container-id-1 {\n",
       "  color: var(--sklearn-color-text);\n",
       "}\n",
       "\n",
       "#sk-container-id-1 pre {\n",
       "  padding: 0;\n",
       "}\n",
       "\n",
       "#sk-container-id-1 input.sk-hidden--visually {\n",
       "  border: 0;\n",
       "  clip: rect(1px 1px 1px 1px);\n",
       "  clip: rect(1px, 1px, 1px, 1px);\n",
       "  height: 1px;\n",
       "  margin: -1px;\n",
       "  overflow: hidden;\n",
       "  padding: 0;\n",
       "  position: absolute;\n",
       "  width: 1px;\n",
       "}\n",
       "\n",
       "#sk-container-id-1 div.sk-dashed-wrapped {\n",
       "  border: 1px dashed var(--sklearn-color-line);\n",
       "  margin: 0 0.4em 0.5em 0.4em;\n",
       "  box-sizing: border-box;\n",
       "  padding-bottom: 0.4em;\n",
       "  background-color: var(--sklearn-color-background);\n",
       "}\n",
       "\n",
       "#sk-container-id-1 div.sk-container {\n",
       "  /* jupyter's `normalize.less` sets `[hidden] { display: none; }`\n",
       "     but bootstrap.min.css set `[hidden] { display: none !important; }`\n",
       "     so we also need the `!important` here to be able to override the\n",
       "     default hidden behavior on the sphinx rendered scikit-learn.org.\n",
       "     See: https://github.com/scikit-learn/scikit-learn/issues/21755 */\n",
       "  display: inline-block !important;\n",
       "  position: relative;\n",
       "}\n",
       "\n",
       "#sk-container-id-1 div.sk-text-repr-fallback {\n",
       "  display: none;\n",
       "}\n",
       "\n",
       "div.sk-parallel-item,\n",
       "div.sk-serial,\n",
       "div.sk-item {\n",
       "  /* draw centered vertical line to link estimators */\n",
       "  background-image: linear-gradient(var(--sklearn-color-text-on-default-background), var(--sklearn-color-text-on-default-background));\n",
       "  background-size: 2px 100%;\n",
       "  background-repeat: no-repeat;\n",
       "  background-position: center center;\n",
       "}\n",
       "\n",
       "/* Parallel-specific style estimator block */\n",
       "\n",
       "#sk-container-id-1 div.sk-parallel-item::after {\n",
       "  content: \"\";\n",
       "  width: 100%;\n",
       "  border-bottom: 2px solid var(--sklearn-color-text-on-default-background);\n",
       "  flex-grow: 1;\n",
       "}\n",
       "\n",
       "#sk-container-id-1 div.sk-parallel {\n",
       "  display: flex;\n",
       "  align-items: stretch;\n",
       "  justify-content: center;\n",
       "  background-color: var(--sklearn-color-background);\n",
       "  position: relative;\n",
       "}\n",
       "\n",
       "#sk-container-id-1 div.sk-parallel-item {\n",
       "  display: flex;\n",
       "  flex-direction: column;\n",
       "}\n",
       "\n",
       "#sk-container-id-1 div.sk-parallel-item:first-child::after {\n",
       "  align-self: flex-end;\n",
       "  width: 50%;\n",
       "}\n",
       "\n",
       "#sk-container-id-1 div.sk-parallel-item:last-child::after {\n",
       "  align-self: flex-start;\n",
       "  width: 50%;\n",
       "}\n",
       "\n",
       "#sk-container-id-1 div.sk-parallel-item:only-child::after {\n",
       "  width: 0;\n",
       "}\n",
       "\n",
       "/* Serial-specific style estimator block */\n",
       "\n",
       "#sk-container-id-1 div.sk-serial {\n",
       "  display: flex;\n",
       "  flex-direction: column;\n",
       "  align-items: center;\n",
       "  background-color: var(--sklearn-color-background);\n",
       "  padding-right: 1em;\n",
       "  padding-left: 1em;\n",
       "}\n",
       "\n",
       "\n",
       "/* Toggleable style: style used for estimator/Pipeline/ColumnTransformer box that is\n",
       "clickable and can be expanded/collapsed.\n",
       "- Pipeline and ColumnTransformer use this feature and define the default style\n",
       "- Estimators will overwrite some part of the style using the `sk-estimator` class\n",
       "*/\n",
       "\n",
       "/* Pipeline and ColumnTransformer style (default) */\n",
       "\n",
       "#sk-container-id-1 div.sk-toggleable {\n",
       "  /* Default theme specific background. It is overwritten whether we have a\n",
       "  specific estimator or a Pipeline/ColumnTransformer */\n",
       "  background-color: var(--sklearn-color-background);\n",
       "}\n",
       "\n",
       "/* Toggleable label */\n",
       "#sk-container-id-1 label.sk-toggleable__label {\n",
       "  cursor: pointer;\n",
       "  display: block;\n",
       "  width: 100%;\n",
       "  margin-bottom: 0;\n",
       "  padding: 0.5em;\n",
       "  box-sizing: border-box;\n",
       "  text-align: center;\n",
       "}\n",
       "\n",
       "#sk-container-id-1 label.sk-toggleable__label-arrow:before {\n",
       "  /* Arrow on the left of the label */\n",
       "  content: \"▸\";\n",
       "  float: left;\n",
       "  margin-right: 0.25em;\n",
       "  color: var(--sklearn-color-icon);\n",
       "}\n",
       "\n",
       "#sk-container-id-1 label.sk-toggleable__label-arrow:hover:before {\n",
       "  color: var(--sklearn-color-text);\n",
       "}\n",
       "\n",
       "/* Toggleable content - dropdown */\n",
       "\n",
       "#sk-container-id-1 div.sk-toggleable__content {\n",
       "  max-height: 0;\n",
       "  max-width: 0;\n",
       "  overflow: hidden;\n",
       "  text-align: left;\n",
       "  /* unfitted */\n",
       "  background-color: var(--sklearn-color-unfitted-level-0);\n",
       "}\n",
       "\n",
       "#sk-container-id-1 div.sk-toggleable__content.fitted {\n",
       "  /* fitted */\n",
       "  background-color: var(--sklearn-color-fitted-level-0);\n",
       "}\n",
       "\n",
       "#sk-container-id-1 div.sk-toggleable__content pre {\n",
       "  margin: 0.2em;\n",
       "  border-radius: 0.25em;\n",
       "  color: var(--sklearn-color-text);\n",
       "  /* unfitted */\n",
       "  background-color: var(--sklearn-color-unfitted-level-0);\n",
       "}\n",
       "\n",
       "#sk-container-id-1 div.sk-toggleable__content.fitted pre {\n",
       "  /* unfitted */\n",
       "  background-color: var(--sklearn-color-fitted-level-0);\n",
       "}\n",
       "\n",
       "#sk-container-id-1 input.sk-toggleable__control:checked~div.sk-toggleable__content {\n",
       "  /* Expand drop-down */\n",
       "  max-height: 200px;\n",
       "  max-width: 100%;\n",
       "  overflow: auto;\n",
       "}\n",
       "\n",
       "#sk-container-id-1 input.sk-toggleable__control:checked~label.sk-toggleable__label-arrow:before {\n",
       "  content: \"▾\";\n",
       "}\n",
       "\n",
       "/* Pipeline/ColumnTransformer-specific style */\n",
       "\n",
       "#sk-container-id-1 div.sk-label input.sk-toggleable__control:checked~label.sk-toggleable__label {\n",
       "  color: var(--sklearn-color-text);\n",
       "  background-color: var(--sklearn-color-unfitted-level-2);\n",
       "}\n",
       "\n",
       "#sk-container-id-1 div.sk-label.fitted input.sk-toggleable__control:checked~label.sk-toggleable__label {\n",
       "  background-color: var(--sklearn-color-fitted-level-2);\n",
       "}\n",
       "\n",
       "/* Estimator-specific style */\n",
       "\n",
       "/* Colorize estimator box */\n",
       "#sk-container-id-1 div.sk-estimator input.sk-toggleable__control:checked~label.sk-toggleable__label {\n",
       "  /* unfitted */\n",
       "  background-color: var(--sklearn-color-unfitted-level-2);\n",
       "}\n",
       "\n",
       "#sk-container-id-1 div.sk-estimator.fitted input.sk-toggleable__control:checked~label.sk-toggleable__label {\n",
       "  /* fitted */\n",
       "  background-color: var(--sklearn-color-fitted-level-2);\n",
       "}\n",
       "\n",
       "#sk-container-id-1 div.sk-label label.sk-toggleable__label,\n",
       "#sk-container-id-1 div.sk-label label {\n",
       "  /* The background is the default theme color */\n",
       "  color: var(--sklearn-color-text-on-default-background);\n",
       "}\n",
       "\n",
       "/* On hover, darken the color of the background */\n",
       "#sk-container-id-1 div.sk-label:hover label.sk-toggleable__label {\n",
       "  color: var(--sklearn-color-text);\n",
       "  background-color: var(--sklearn-color-unfitted-level-2);\n",
       "}\n",
       "\n",
       "/* Label box, darken color on hover, fitted */\n",
       "#sk-container-id-1 div.sk-label.fitted:hover label.sk-toggleable__label.fitted {\n",
       "  color: var(--sklearn-color-text);\n",
       "  background-color: var(--sklearn-color-fitted-level-2);\n",
       "}\n",
       "\n",
       "/* Estimator label */\n",
       "\n",
       "#sk-container-id-1 div.sk-label label {\n",
       "  font-family: monospace;\n",
       "  font-weight: bold;\n",
       "  display: inline-block;\n",
       "  line-height: 1.2em;\n",
       "}\n",
       "\n",
       "#sk-container-id-1 div.sk-label-container {\n",
       "  text-align: center;\n",
       "}\n",
       "\n",
       "/* Estimator-specific */\n",
       "#sk-container-id-1 div.sk-estimator {\n",
       "  font-family: monospace;\n",
       "  border: 1px dotted var(--sklearn-color-border-box);\n",
       "  border-radius: 0.25em;\n",
       "  box-sizing: border-box;\n",
       "  margin-bottom: 0.5em;\n",
       "  /* unfitted */\n",
       "  background-color: var(--sklearn-color-unfitted-level-0);\n",
       "}\n",
       "\n",
       "#sk-container-id-1 div.sk-estimator.fitted {\n",
       "  /* fitted */\n",
       "  background-color: var(--sklearn-color-fitted-level-0);\n",
       "}\n",
       "\n",
       "/* on hover */\n",
       "#sk-container-id-1 div.sk-estimator:hover {\n",
       "  /* unfitted */\n",
       "  background-color: var(--sklearn-color-unfitted-level-2);\n",
       "}\n",
       "\n",
       "#sk-container-id-1 div.sk-estimator.fitted:hover {\n",
       "  /* fitted */\n",
       "  background-color: var(--sklearn-color-fitted-level-2);\n",
       "}\n",
       "\n",
       "/* Specification for estimator info (e.g. \"i\" and \"?\") */\n",
       "\n",
       "/* Common style for \"i\" and \"?\" */\n",
       "\n",
       ".sk-estimator-doc-link,\n",
       "a:link.sk-estimator-doc-link,\n",
       "a:visited.sk-estimator-doc-link {\n",
       "  float: right;\n",
       "  font-size: smaller;\n",
       "  line-height: 1em;\n",
       "  font-family: monospace;\n",
       "  background-color: var(--sklearn-color-background);\n",
       "  border-radius: 1em;\n",
       "  height: 1em;\n",
       "  width: 1em;\n",
       "  text-decoration: none !important;\n",
       "  margin-left: 1ex;\n",
       "  /* unfitted */\n",
       "  border: var(--sklearn-color-unfitted-level-1) 1pt solid;\n",
       "  color: var(--sklearn-color-unfitted-level-1);\n",
       "}\n",
       "\n",
       ".sk-estimator-doc-link.fitted,\n",
       "a:link.sk-estimator-doc-link.fitted,\n",
       "a:visited.sk-estimator-doc-link.fitted {\n",
       "  /* fitted */\n",
       "  border: var(--sklearn-color-fitted-level-1) 1pt solid;\n",
       "  color: var(--sklearn-color-fitted-level-1);\n",
       "}\n",
       "\n",
       "/* On hover */\n",
       "div.sk-estimator:hover .sk-estimator-doc-link:hover,\n",
       ".sk-estimator-doc-link:hover,\n",
       "div.sk-label-container:hover .sk-estimator-doc-link:hover,\n",
       ".sk-estimator-doc-link:hover {\n",
       "  /* unfitted */\n",
       "  background-color: var(--sklearn-color-unfitted-level-3);\n",
       "  color: var(--sklearn-color-background);\n",
       "  text-decoration: none;\n",
       "}\n",
       "\n",
       "div.sk-estimator.fitted:hover .sk-estimator-doc-link.fitted:hover,\n",
       ".sk-estimator-doc-link.fitted:hover,\n",
       "div.sk-label-container:hover .sk-estimator-doc-link.fitted:hover,\n",
       ".sk-estimator-doc-link.fitted:hover {\n",
       "  /* fitted */\n",
       "  background-color: var(--sklearn-color-fitted-level-3);\n",
       "  color: var(--sklearn-color-background);\n",
       "  text-decoration: none;\n",
       "}\n",
       "\n",
       "/* Span, style for the box shown on hovering the info icon */\n",
       ".sk-estimator-doc-link span {\n",
       "  display: none;\n",
       "  z-index: 9999;\n",
       "  position: relative;\n",
       "  font-weight: normal;\n",
       "  right: .2ex;\n",
       "  padding: .5ex;\n",
       "  margin: .5ex;\n",
       "  width: min-content;\n",
       "  min-width: 20ex;\n",
       "  max-width: 50ex;\n",
       "  color: var(--sklearn-color-text);\n",
       "  box-shadow: 2pt 2pt 4pt #999;\n",
       "  /* unfitted */\n",
       "  background: var(--sklearn-color-unfitted-level-0);\n",
       "  border: .5pt solid var(--sklearn-color-unfitted-level-3);\n",
       "}\n",
       "\n",
       ".sk-estimator-doc-link.fitted span {\n",
       "  /* fitted */\n",
       "  background: var(--sklearn-color-fitted-level-0);\n",
       "  border: var(--sklearn-color-fitted-level-3);\n",
       "}\n",
       "\n",
       ".sk-estimator-doc-link:hover span {\n",
       "  display: block;\n",
       "}\n",
       "\n",
       "/* \"?\"-specific style due to the `<a>` HTML tag */\n",
       "\n",
       "#sk-container-id-1 a.estimator_doc_link {\n",
       "  float: right;\n",
       "  font-size: 1rem;\n",
       "  line-height: 1em;\n",
       "  font-family: monospace;\n",
       "  background-color: var(--sklearn-color-background);\n",
       "  border-radius: 1rem;\n",
       "  height: 1rem;\n",
       "  width: 1rem;\n",
       "  text-decoration: none;\n",
       "  /* unfitted */\n",
       "  color: var(--sklearn-color-unfitted-level-1);\n",
       "  border: var(--sklearn-color-unfitted-level-1) 1pt solid;\n",
       "}\n",
       "\n",
       "#sk-container-id-1 a.estimator_doc_link.fitted {\n",
       "  /* fitted */\n",
       "  border: var(--sklearn-color-fitted-level-1) 1pt solid;\n",
       "  color: var(--sklearn-color-fitted-level-1);\n",
       "}\n",
       "\n",
       "/* On hover */\n",
       "#sk-container-id-1 a.estimator_doc_link:hover {\n",
       "  /* unfitted */\n",
       "  background-color: var(--sklearn-color-unfitted-level-3);\n",
       "  color: var(--sklearn-color-background);\n",
       "  text-decoration: none;\n",
       "}\n",
       "\n",
       "#sk-container-id-1 a.estimator_doc_link.fitted:hover {\n",
       "  /* fitted */\n",
       "  background-color: var(--sklearn-color-fitted-level-3);\n",
       "}\n",
       "</style><div id=\"sk-container-id-1\" class=\"sk-top-container\"><div class=\"sk-text-repr-fallback\"><pre>LatentDirichletAllocation(n_components=5, random_state=42)</pre><b>In a Jupyter environment, please rerun this cell to show the HTML representation or trust the notebook. <br />On GitHub, the HTML representation is unable to render, please try loading this page with nbviewer.org.</b></div><div class=\"sk-container\" hidden><div class=\"sk-item\"><div class=\"sk-estimator fitted sk-toggleable\"><input class=\"sk-toggleable__control sk-hidden--visually\" id=\"sk-estimator-id-1\" type=\"checkbox\" checked><label for=\"sk-estimator-id-1\" class=\"sk-toggleable__label fitted sk-toggleable__label-arrow fitted\">&nbsp;&nbsp;LatentDirichletAllocation<a class=\"sk-estimator-doc-link fitted\" rel=\"noreferrer\" target=\"_blank\" href=\"https://scikit-learn.org/1.4/modules/generated/sklearn.decomposition.LatentDirichletAllocation.html\">?<span>Documentation for LatentDirichletAllocation</span></a><span class=\"sk-estimator-doc-link fitted\">i<span>Fitted</span></span></label><div class=\"sk-toggleable__content fitted\"><pre>LatentDirichletAllocation(n_components=5, random_state=42)</pre></div> </div></div></div></div>"
      ],
      "text/plain": [
       "LatentDirichletAllocation(n_components=5, random_state=42)"
      ]
     },
     "execution_count": 35,
     "metadata": {},
     "output_type": "execute_result"
    }
   ],
   "source": [
    "# lda model\n",
    "lda = LatentDirichletAllocation(n_components=5, random_state=42)\n",
    "lda.fit(X)"
   ]
  },
  {
   "cell_type": "code",
   "execution_count": 36,
   "metadata": {},
   "outputs": [
    {
     "name": "stdout",
     "output_type": "stream",
     "text": [
      "Topic #0:\n",
      "['있는', '제가', '보면', '지금', '보고', '업무를', '많이', '3년', '그런', '그렇죠']\n",
      "Topic #1:\n",
      "['10년', '이거', '공정도', '하고', '때는', '한번', '주임이', '보통', '저는', '이소리']\n",
      "Topic #2:\n",
      "['맞아요', '같아요', '인턴', '보면', '하고', '있고', '있는', '지금', '이렇게', '그런']\n",
      "Topic #3:\n",
      "['이렇게', '서울', '되고', '그나마', '되는데', '요즘에', '거야', '내가', '맞아요', '그렇죠']\n",
      "Topic #4:\n",
      "['것도', '먼저', '많이', '지금', '내가', '하고', '있을', '이렇게', '근데', '그런']\n"
     ]
    }
   ],
   "source": [
    "for index, topic in enumerate(lda.components_):\n",
    "    print(f'Topic #{index}:')\n",
    "    print([vectorizer.get_feature_names_out()[i] for i in topic.argsort()[-10:]])"
   ]
  },
  {
   "cell_type": "code",
   "execution_count": 37,
   "metadata": {},
   "outputs": [],
   "source": [
    "# 주제 분포 추출\n",
    "topic_distribution = lda.transform(X)"
   ]
  },
  {
   "cell_type": "code",
   "execution_count": 38,
   "metadata": {},
   "outputs": [],
   "source": [
    "# 각 대화의 주요 주제 할당\n",
    "df['topic'] = topic_distribution.argmax(axis=1)"
   ]
  },
  {
   "cell_type": "code",
   "execution_count": 41,
   "metadata": {},
   "outputs": [
    {
     "data": {
      "image/png": "[encoded data removed]",
      "text/plain": [
       "<Figure size 640x480 with 1 Axes>"
      ]
     },
     "metadata": {},
     "output_type": "display_data"
    }
   ],
   "source": [
    "# 시각화\n",
    "import matplotlib.pyplot as plt\n",
    "plt.plot(df['time'], df['topic'])\n",
    "plt.xlabel('Time')\n",
    "plt.ylabel('Topic')\n",
    "plt.title('Topic FLow Over Time')\n",
    "plt.show()"
   ]
  },
  {
   "cell_type": "markdown",
   "metadata": {},
   "source": [
    "*위에서 사용한 코드들의 함수정리*\n",
    "- pd.read_csv() : csv 파일 읽어서 df로 변환함\n",
    "- tokenize(text) : 텍스트 형태소를 분석하여 명사만 추출한 후, 공백으로 연결된 문자열로 반환\n",
    "- apply(tokenize) : 각 행에 함수적용시킴\n",
    "- open(stopwords_file_path,'r',encoding='utf-8') : 읽기모드로 열어, 한국어로 인코딩\n",
    "- CountVectorizer() : 텍스트 데이터를 벡터화 + max_df=0.9: 전체 문서의 90% 이상에 등장하는 단어는 무시합니다.\n",
    "\tmin_df=2: 최소 두 문서에 등장하는 단어만 사용합니다.\n",
    "\tstop_words=korean_stopwords: 한국어 불용어 리스트를 사용하여 불용어를 제거합니다.\n"
   ]
  },
  {
   "cell_type": "markdown",
   "metadata": {},
   "source": [
    "*위에 코드의 문제점*\n",
    "- 일단 vectorizer가 최소 두문서에 등장하는 단어만 사용한다고 하는데, 그럼 난 문서가 한개뿐인데 무얼 비교해서 가지고 온것인가?\n",
    "- stopwords에 불용어가 더 필요한듯 해 보인다. 주제가 너무 이상해!\n",
    "- 주제는 5개는 너무 많고, 3개정도가 적당한듯\n",
    "- 주제가 코치꺼 코치이꺼 해서 어디에 포함되는지 볼수있나?"
   ]
  },
  {
   "cell_type": "markdown",
   "metadata": {},
   "source": [
    "*문제점의 해결방법*\n",
    "- 문서가 하나뿐이여도 텍스트를 여러개의 작은 문서로 나누어 주제 모델링을 할 수 있다. \n",
    "- 주제의 수를 결정하는 n_components 파라미터를 사용하여 주제수 조정\n"
   ]
  },
  {
   "cell_type": "code",
   "execution_count": 50,
   "metadata": {},
   "outputs": [
    {
     "name": "stderr",
     "output_type": "stream",
     "text": [
      "/opt/anaconda3/envs/venv/lib/python3.10/site-packages/sklearn/feature_extraction/text.py:408: UserWarning: Your stop_words may be inconsistent with your preprocessing. Tokenizing the stop words generated tokens ['가서', '같은', '것과', '결과에', '결론을', '관계가', '관련이', '그런', '그럼에도', '그렇게', '그에', '그치지', '김에', '까닭에', '낫다', '년도', '논하지', '누가', '다시', '달려', '대로', '대해', '되는', '되다', '되어', '들면', '들자면', '듯하다', '따르는', '따름이다', '따지지', '때가', '만은', '만이', '많은', '말하면', '말할것도', '몰라도', '몰랏다', '못하다', '미치다', '바꾸어서', '바꿔', '밖에', '방면으로', '보면', '보아', '부류의', '비길수', '비추어', '뿐만', '사람들', '상대적으로', '생각이다', '서술한바와같이', '쓰여', '아니다', '아니라', '안다', '안된다', '않고', '않기', '않는다면', '않다', '않다면', '않도록', '않으면', '알겠는가', '어쩔수', '없고', '없다', '예를', '외에', '요만한', '우에', '위에서', '이렇게', '이로', '이르다', '이와', '이유는', '인하여', '임에', '점에서', '정도에', '정도의', '종합한것과같이', '주저하지', '줄은', '지경이다', '틀림없다', '편이', '하고', '하기', '하기만', '하는', '하는것만', '하는것이', '하다', '하면', '하지', '한하다', '할수록', '함으로써', '해도', '해서는', '형식으로', '힘이'] not in stop_words.\n",
      "  warnings.warn(\n",
      "/var/folders/8x/sgw8mqg97yd1sljgj0nj8rrw0000gn/T/ipykernel_3081/3685604264.py:68: FutureWarning: \n",
      "\n",
      "`shade` is now deprecated in favor of `fill`; setting `fill=True`.\n",
      "This will become an error in seaborn v0.14.0; please update your code.\n",
      "\n",
      "  sns.kdeplot(df[df['talker'] == '코치']['topic'], label='코치', shade=True)\n",
      "/var/folders/8x/sgw8mqg97yd1sljgj0nj8rrw0000gn/T/ipykernel_3081/3685604264.py:69: FutureWarning: \n",
      "\n",
      "`shade` is now deprecated in favor of `fill`; setting `fill=True`.\n",
      "This will become an error in seaborn v0.14.0; please update your code.\n",
      "\n",
      "  sns.kdeplot(df[df['talker'] == '코치이']['topic'], label='코치이', shade=True)\n"
     ]
    },
    {
     "name": "stdout",
     "output_type": "stream",
     "text": [
      "Topic #0:\n",
      "['한번', '생각', '이소리', '회사', '주임', '부분', '업무', '사람', '지금', '얘기']\n",
      "Topic #1:\n",
      "['어제', '요즘', '회사', '김포', '출퇴근', '관점', '부분', '업무', '먼저', '보고']\n",
      "Topic #2:\n",
      "['관련', '수석', '질의', '인사', '주임', '업무', '부분', '인턴', '지금', '퇴근']\n",
      "코치의 주제 분포:\n",
      "0    0.483871\n",
      "2    0.258065\n",
      "1    0.258065\n",
      "Name: topic, dtype: float64\n",
      "\n",
      "코치이의 주제 분포:\n",
      "0    0.517241\n",
      "1    0.258621\n",
      "2    0.224138\n",
      "Name: topic, dtype: float64\n"
     ]
    },
    {
     "data": {
      "image/png": "[encoded data removed]",
      "text/plain": [
       "<Figure size 1200x600 with 1 Axes>"
      ]
     },
     "metadata": {},
     "output_type": "display_data"
    }
   ],
   "source": [
    "import pandas as pd\n",
    "from konlpy.tag import Okt\n",
    "from sklearn.feature_extraction.text import CountVectorizer\n",
    "from sklearn.decomposition import LatentDirichletAllocation\n",
    "import matplotlib.pyplot as plt\n",
    "import seaborn as sns\n",
    "from matplotlib import rc\n",
    "\n",
    "rc('font', family='AppleGothic')\n",
    "plt.rcParams['axes.unicode_minus'] = False\n",
    "\n",
    "# CSV 파일 로드\n",
    "df = pd.read_csv('2순위추천_김용인_1차.csv', encoding='utf-8')\n",
    "\n",
    "# 형태소 분석기 초기화\n",
    "okt = Okt()\n",
    "\n",
    "# 텍스트 토큰화 함수 정의\n",
    "def tokenize(text):\n",
    "    tokens = okt.nouns(text)\n",
    "    return ' '.join(tokens)\n",
    "\n",
    "# 텍스트 데이터 토큰화\n",
    "df['tokens'] = df['content'].apply(tokenize)\n",
    "\n",
    "# 불용어 파일 경로\n",
    "stopwords_file_path = 'ko_stopwords.txt'\n",
    "\n",
    "# 불용어 파일 읽기\n",
    "with open(stopwords_file_path, 'r', encoding='utf-8') as file:\n",
    "    korean_stopwords = file.read().splitlines()\n",
    "\n",
    "# CountVectorizer를 사용하여 텍스트 데이터를 벡터화\n",
    "vectorizer = CountVectorizer(max_df=0.9, min_df=1, stop_words=korean_stopwords)\n",
    "X = vectorizer.fit_transform(df['tokens'])\n",
    "\n",
    "# LDA 모델 생성 및 훈련\n",
    "lda = LatentDirichletAllocation(n_components=3, random_state=42)\n",
    "lda.fit(X)\n",
    "\n",
    "# 주제 출력\n",
    "for index, topic in enumerate(lda.components_):\n",
    "    print(f'Topic #{index}:')\n",
    "    print([vectorizer.get_feature_names_out()[i] for i in topic.argsort()[-10:]])\n",
    "\n",
    "# 각 문서(발화)에 대한 주제 분포 추출\n",
    "topic_distribution = lda.transform(X)\n",
    "\n",
    "# 각 발화의 주요 주제 할당\n",
    "df['topic'] = topic_distribution.argmax(axis=1)\n",
    "\n",
    "# 코치와 코치이의 주제 분포 계산\n",
    "coach_topics = df[df['talker'] == '코치']['topic'].value_counts(normalize=True)\n",
    "coachee_topics = df[df['talker'] == '코치이']['topic'].value_counts(normalize=True)\n",
    "\n",
    "# 결과 출력\n",
    "print(\"코치의 주제 분포:\")\n",
    "print(coach_topics)\n",
    "\n",
    "print(\"\\n코치이의 주제 분포:\")\n",
    "print(coachee_topics)\n",
    "\n",
    "# 코치와 코치이의 주제 분포 계산\n",
    "df['talker_topic'] = df['talker'] + ' - Topic ' + df['topic'].astype(str)\n",
    "\n",
    "# KDE 그래프 시각화\n",
    "plt.figure(figsize=(12, 6))\n",
    "sns.kdeplot(df[df['talker'] == '코치']['topic'], label='코치', shade=True)\n",
    "sns.kdeplot(df[df['talker'] == '코치이']['topic'], label='코치이', shade=True)\n",
    "plt.xlabel('주제')\n",
    "plt.ylabel('밀도')\n",
    "plt.title('코치와 코치이의 주제 분포')\n",
    "plt.legend()\n",
    "plt.show()"
   ]
  },
  {
   "cell_type": "code",
   "execution_count": null,
   "metadata": {},
   "outputs": [],
   "source": [
    "#한글 왜 안나와*\n",
    "#from matplotlib import rc\n",
    "#rc('font', family='AppleGothic')m\n",
    "#plt.rcParams['axes.unicode_minus'] = False\n",
    "#저런 코드가 필요함ㅇㅇ"
   ]
  },
  {
   "cell_type": "markdown",
   "metadata": {},
   "source": [
    "*바로 위 코드로 알게된점, 바꿀점*\n",
    "- 주제 자체를 3개로 바꾼건 잘한듯, 여전히 주제가 엄청 잘 나오고 있지는 않음\n",
    "- 2:6:2 비율로 전반 중반 후반을 나누어서 봐볼것\n",
    "- 주제 자체는 비슷한 비율로 서로 이야기하고있는듯하다"
   ]
  },
  {
   "cell_type": "code",
   "execution_count": null,
   "metadata": {},
   "outputs": [],
   "source": []
  },
  {
   "cell_type": "code",
   "execution_count": null,
   "metadata": {},
   "outputs": [],
   "source": []
  },
  {
   "cell_type": "code",
   "execution_count": null,
   "metadata": {},
   "outputs": [],
   "source": []
  },
  {
   "cell_type": "code",
   "execution_count": null,
   "metadata": {},
   "outputs": [],
   "source": []
  },
  {
   "cell_type": "code",
   "execution_count": null,
   "metadata": {},
   "outputs": [],
   "source": []
  },
  {
   "cell_type": "code",
   "execution_count": null,
   "metadata": {},
   "outputs": [],
   "source": []
  },
  {
   "cell_type": "code",
   "execution_count": null,
   "metadata": {},
   "outputs": [],
   "source": []
  }
 ],
 "metadata": {
  "kernelspec": {
   "display_name": "Python (venv)",
   "language": "python",
   "name": "venv"
  },
  "language_info": {
   "codemirror_mode": {
    "name": "ipython",
    "version": 3
   },
   "file_extension": ".py",
   "mimetype": "text/x-python",
   "name": "python",
   "nbconvert_exporter": "python",
   "pygments_lexer": "ipython3",
   "version": "3.10.8"
  }
 },
 "nbformat": 4,
 "nbformat_minor": 2
}
